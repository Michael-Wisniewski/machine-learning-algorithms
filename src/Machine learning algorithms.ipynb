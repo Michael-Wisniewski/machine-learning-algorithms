{
 "cells": [
  {
   "cell_type": "markdown",
   "id": "61764372",
   "metadata": {
    "toc": true
   },
   "source": [
    "<h1>Machine learning algorithms.<span class=\"tocSkip\"></span></h1>\n",
    "<div class=\"toc\"><ul class=\"toc-item\"><li><span><a href=\"#Linear-regression\" data-toc-modified-id=\"Linear-regression-1\"><span class=\"toc-item-num\">1&nbsp;&nbsp;</span>Linear regression</a></span><ul class=\"toc-item\"><li><span><a href=\"#Hypothesis\" data-toc-modified-id=\"Hypothesis-1.1\"><span class=\"toc-item-num\">1.1&nbsp;&nbsp;</span>Hypothesis</a></span></li><li><span><a href=\"#Cost-function---Mean-squared-error\" data-toc-modified-id=\"Cost-function---Mean-squared-error-1.2\"><span class=\"toc-item-num\">1.2&nbsp;&nbsp;</span>Cost function - Mean squared error</a></span></li><li><span><a href=\"#Gradient-descent\" data-toc-modified-id=\"Gradient-descent-1.3\"><span class=\"toc-item-num\">1.3&nbsp;&nbsp;</span>Gradient descent</a></span></li><li><span><a href=\"#Feature-scaling-and-mean-normalization\" data-toc-modified-id=\"Feature-scaling-and-mean-normalization-1.4\"><span class=\"toc-item-num\">1.4&nbsp;&nbsp;</span>Feature scaling and mean normalization</a></span></li><li><span><a href=\"#Normal-equasion\" data-toc-modified-id=\"Normal-equasion-1.5\"><span class=\"toc-item-num\">1.5&nbsp;&nbsp;</span>Normal equasion</a></span></li></ul></li><li><span><a href=\"#Linear-regression-examples\" data-toc-modified-id=\"Linear-regression-examples-2\"><span class=\"toc-item-num\">2&nbsp;&nbsp;</span>Linear regression examples</a></span><ul class=\"toc-item\"><li><span><a href=\"#Plot-hypothesis\" data-toc-modified-id=\"Plot-hypothesis-2.1\"><span class=\"toc-item-num\">2.1&nbsp;&nbsp;</span>Plot hypothesis</a></span></li><li><span><a href=\"#Mean-squared-error-implementation\" data-toc-modified-id=\"Mean-squared-error-implementation-2.2\"><span class=\"toc-item-num\">2.2&nbsp;&nbsp;</span>Mean squared error implementation</a></span></li><li><span><a href=\"#Plot-different-hypothesis-and-mean-squared-errors\" data-toc-modified-id=\"Plot-different-hypothesis-and-mean-squared-errors-2.3\"><span class=\"toc-item-num\">2.3&nbsp;&nbsp;</span>Plot different hypothesis and mean squared errors</a></span></li><li><span><a href=\"#Plot-mean-squared-error-for-univariable-hypothesis\" data-toc-modified-id=\"Plot-mean-squared-error-for-univariable-hypothesis-2.4\"><span class=\"toc-item-num\">2.4&nbsp;&nbsp;</span>Plot mean squared error for univariable hypothesis</a></span></li><li><span><a href=\"#Plot-mean-squared-error-for-multivariable-hypothesis\" data-toc-modified-id=\"Plot-mean-squared-error-for-multivariable-hypothesis-2.5\"><span class=\"toc-item-num\">2.5&nbsp;&nbsp;</span>Plot mean squared error for multivariable hypothesis</a></span></li></ul></li></ul></div>"
   ]
  },
  {
   "cell_type": "markdown",
   "id": "892b8ca6",
   "metadata": {},
   "source": [
    "# Linear regression"
   ]
  },
  {
   "cell_type": "markdown",
   "id": "a7397241",
   "metadata": {},
   "source": [
    "n - number of features <br>\n",
    "m - number of training examples <br>\n",
    "$x^{(i)}$ - $i^{th}$ input variable <br>\n",
    "$y^{(i)}$ - $i^{th}$ output variable"
   ]
  },
  {
   "cell_type": "markdown",
   "id": "984e991d",
   "metadata": {},
   "source": [
    "## Hypothesis"
   ]
  },
  {
   "cell_type": "markdown",
   "id": "34bb44e7",
   "metadata": {},
   "source": [
    "Parameters: <br>\n",
    "&emsp; $\\theta_0, \\theta_1,...\\theta_n = \\theta$ <br><br>\n",
    "Hypothesis: <br>\n",
    "&emsp; $h_\\theta(x) = \\theta_0x_0+\\theta_1x_1+...+\\theta_nx_n = \\theta^Tx$ &emsp; for $x_0=1$<br><br>\n",
    "Vectorized hypothesis: <br>\n",
    "&emsp; $y_{predicted} = X\\theta$"
   ]
  },
  {
   "cell_type": "markdown",
   "id": "0ed30fbc",
   "metadata": {},
   "source": [
    "## Cost function - Mean squared error"
   ]
  },
  {
   "cell_type": "markdown",
   "id": "4de7fb33",
   "metadata": {},
   "source": [
    "Cost function: <br>\n",
    "&emsp; $J(\\theta) = \\frac{1}{2m} \\sum \\limits _{i=1} ^m (h_\\theta(x^{(i)})-y^{(i)})^2$ <br><br>\n",
    "Vectorized cost function: <br>\n",
    "&emsp; $J(\\theta) = \\frac{1}{2m}(X\\theta - y)^T(X\\theta - y)$"
   ]
  },
  {
   "cell_type": "markdown",
   "id": "cb26b648",
   "metadata": {},
   "source": [
    "## Gradient descent"
   ]
  },
  {
   "cell_type": "markdown",
   "id": "88042adf",
   "metadata": {},
   "source": [
    "Gradient descent algorithm: <br>\n",
    "&emsp; $\\theta_j := \\theta_j - \\alpha \\frac{\\partial}{\\partial\\theta_j}J(\\theta)$ <br>\n",
    "&emsp;$\\theta_j := \\theta_j - \\alpha \\frac{1}{m} \\sum \\limits _{i=1} ^m (h_\\theta(x^{(i)})-y^{(i)})x_j^{(i)}$ &emsp; for j=0...n,  $x_0=1$ <br><br>\n",
    "Vectorized gradient descent: <br>\n",
    "&emsp; $\\theta = \\theta - \\alpha \\frac{1}{m} ((X\\theta - y)^T X)^T = \\theta - \\alpha \\frac{1}{m} X^T (X\\theta - y)$"
   ]
  },
  {
   "cell_type": "markdown",
   "id": "e46aca2a",
   "metadata": {},
   "source": [
    "## Feature scaling and mean normalization"
   ]
  },
  {
   "cell_type": "markdown",
   "id": "4d970366",
   "metadata": {},
   "source": [
    "$\\mu_i - mean$ <br>\n",
    "$\\sigma_i$ - standard deviation <br><br>\n",
    "Feature scaling and mean normalization: <br>\n",
    "&emsp; $x_i = \\frac{x_i - \\mu_i}{\\sigma_i}$ <br><br>\n",
    "Vectorized feature scaling and mean normalization: <br>\n",
    "&emsp; $\\mu \\in \\mathbb{R^n}$ <br>\n",
    "&emsp; $\\sigma \\in \\mathbb{R^n}$ <br>\n",
    "&emsp; $t \\in \\mathbb{1}^m$ <br><br>\n",
    "&emsp; $X_{normalize} = (X - t\\mu^T) \\oslash (t\\sigma^T)$"
   ]
  },
  {
   "cell_type": "markdown",
   "id": "8a1e8397",
   "metadata": {},
   "source": [
    "## Normal equasion"
   ]
  },
  {
   "cell_type": "markdown",
   "id": "e32e4e5e",
   "metadata": {},
   "source": [
    "min of $J(\\theta) = \\frac{\\partial}{\\partial\\theta}J(\\theta) = \\frac{\\partial}{\\partial\\theta} \\frac{1}{2m} \\sum \\limits _{i=1} ^m (h_\\theta(x^{(i)})-y^{(i)})^2 = 0 => \\theta = (X^TX)^{-1}X^Ty$ <br>"
   ]
  },
  {
   "cell_type": "markdown",
   "id": "a0c5fc6d",
   "metadata": {},
   "source": [
    "# Linear regression examples"
   ]
  },
  {
   "cell_type": "markdown",
   "id": "6705677d",
   "metadata": {},
   "source": [
    "## Plot hypothesis"
   ]
  },
  {
   "cell_type": "code",
   "execution_count": 1,
   "id": "4a83f327",
   "metadata": {
    "scrolled": false
   },
   "outputs": [
    {
     "data": {
      "text/plain": [
       "[<matplotlib.lines.Line2D at 0x7f58655ddf10>]"
      ]
     },
     "execution_count": 1,
     "metadata": {},
     "output_type": "execute_result"
    },
    {
     "data": {
      "image/png": "[encoded data removed]",
      "text/plain": [
       "<Figure size 432x288 with 1 Axes>"
      ]
     },
     "metadata": {
      "needs_background": "light"
     },
     "output_type": "display_data"
    }
   ],
   "source": [
    "import numpy as np\n",
    "from matplotlib import pyplot as plt\n",
    "\n",
    "data = np.loadtxt('datasets/food_truck.csv', delimiter=',')\n",
    "\n",
    "X = data[:, 0:1]\n",
    "y = data[:, 1:2]\n",
    "\n",
    "plt.xlabel('Population of City in 10,000s')\n",
    "plt.ylabel('Profit in $10,000s')\n",
    "plt.plot(X, y, 'xr')\n",
    "\n",
    "theta = np.array([[-1], [2]])\n",
    "min_max = np.array([[np.min(X)], [np.max(X)]])\n",
    "min_max_with_x0 = np.hstack((np.ones((2,1)), min_max))\n",
    "pred = min_max_with_x0.dot(theta) \n",
    "\n",
    "plt.plot(min_max, pred)"
   ]
  },
  {
   "cell_type": "markdown",
   "id": "de51eb16",
   "metadata": {},
   "source": [
    "## Mean squared error implementation"
   ]
  },
  {
   "cell_type": "code",
   "execution_count": 67,
   "id": "5c966f8c",
   "metadata": {},
   "outputs": [],
   "source": [
    "def mean_squared_error(X, y, theta):\n",
    "    m = X.shape[0]\n",
    "    J = (1/(2*m)) * ((X.dot(theta)-y).T).dot(X.dot(theta)-y)\n",
    "    return J[0][0]"
   ]
  },
  {
   "cell_type": "markdown",
   "id": "f287a3ca",
   "metadata": {},
   "source": [
    "## Plot different hypothesis and mean squared errors"
   ]
  },
  {
   "cell_type": "code",
   "execution_count": 66,
   "id": "99776f1c",
   "metadata": {},
   "outputs": [
    {
     "data": {
      "text/plain": [
       "<matplotlib.legend.Legend at 0x7f585e33bd60>"
      ]
     },
     "execution_count": 66,
     "metadata": {},
     "output_type": "execute_result"
    },
    {
     "data": {
      "image/png": "[encoded data removed]",
      "text/plain": [
       "<Figure size 432x288 with 1 Axes>"
      ]
     },
     "metadata": {
      "needs_background": "light"
     },
     "output_type": "display_data"
    }
   ],
   "source": [
    "import numpy as np\n",
    "from matplotlib import pyplot as plt\n",
    "\n",
    "data = np.loadtxt('datasets/food_truck.csv', delimiter=',')\n",
    "\n",
    "m = data.shape[0]\n",
    "X = np.hstack((np.ones((m, 1)), data[:, 0:1]))\n",
    "y = data[:, 1:2]\n",
    "\n",
    "min_max = np.array([[np.min(X[:, 1])], [np.max(X[:, 1])]])\n",
    "min_max_with_x0 = np.hstack((np.ones((2,1)), min_max))\n",
    "\n",
    "plt.xlabel('Population of City in 10,000s')\n",
    "plt.ylabel('Profit in $10,000s')\n",
    "plt.plot(X[:, 1:2], y, 'xr')\n",
    "\n",
    "thetas = np.array([\n",
    "    [[-1], [2]],\n",
    "    [[-4], [1]],\n",
    "    [[-13], [1]]\n",
    "])\n",
    "\n",
    "for theta in thetas:\n",
    "    J = mean_squared_error(X, y, theta)\n",
    "    pred = min_max_with_x0.dot(theta)\n",
    "    label = f\"J={np.around(J, 2)}\"\n",
    "    plt.plot(min_max, pred, label=label)\n",
    "\n",
    "plt.legend()"
   ]
  },
  {
   "cell_type": "markdown",
   "id": "11a313a8",
   "metadata": {},
   "source": [
    "## Plot mean squared error for univariable hypothesis"
   ]
  },
  {
   "cell_type": "code",
   "execution_count": 72,
   "id": "c557fb14",
   "metadata": {},
   "outputs": [
    {
     "data": {
      "text/plain": [
       "[<matplotlib.lines.Line2D at 0x7f0afcf9f8e0>]"
      ]
     },
     "execution_count": 72,
     "metadata": {},
     "output_type": "execute_result"
    },
    {
     "data": {
      "image/png": "[encoded data removed]",
      "text/plain": [
       "<Figure size 432x288 with 1 Axes>"
      ]
     },
     "metadata": {
      "needs_background": "light"
     },
     "output_type": "display_data"
    }
   ],
   "source": [
    "import numpy as np\n",
    "from matplotlib import pyplot as plt\n",
    "\n",
    "data = np.loadtxt('datasets/food_truck.csv', delimiter=',')\n",
    "\n",
    "X = data[:, 0:1]\n",
    "y = data[:, 1:2]\n",
    "\n",
    "theta_vals = np.arange(-7.5,9.25,0.1)\n",
    "J_vals = []\n",
    "\n",
    "for theta in theta_vals:\n",
    "    J = mean_squared_error(X, y, theta)\n",
    "    J_vals.append(J)\n",
    "\n",
    "plt.xlabel(r'$\\theta$')\n",
    "plt.ylabel(r'$J(\\theta)$')\n",
    "plt.plot(theta_vals, J_vals)"
   ]
  },
  {
   "cell_type": "markdown",
   "id": "fe36edd2",
   "metadata": {},
   "source": [
    "## Plot mean squared error for multivariable hypothesis"
   ]
  },
  {
   "cell_type": "code",
   "execution_count": 73,
   "id": "9ab5b086",
   "metadata": {},
   "outputs": [
    {
     "data": {
      "text/plain": [
       "<mpl_toolkits.mplot3d.art3d.Poly3DCollection at 0x7f585be99490>"
      ]
     },
     "execution_count": 73,
     "metadata": {},
     "output_type": "execute_result"
    },
    {
     "data": {
      "image/png": "[encoded data removed]",
      "text/plain": [
       "<Figure size 432x288 with 1 Axes>"
      ]
     },
     "metadata": {
      "needs_background": "light"
     },
     "output_type": "display_data"
    }
   ],
   "source": [
    "import numpy as np\n",
    "from matplotlib import pyplot as plt\n",
    "\n",
    "data = np.loadtxt('datasets/food_truck.csv', delimiter=',')\n",
    "\n",
    "m = data.shape[0]\n",
    "X = np.hstack((np.ones((m, 1)), data[:, 0:1]))\n",
    "y = data[:, 1:2]\n",
    "\n",
    "theta0_vals = np.arange(-10, 10,0.1)\n",
    "theta1_vals = np.arange(-1, 4, 0.1)\n",
    "\n",
    "J_vals = np.empty((0,200))\n",
    "\n",
    "for theta1 in theta1_vals:\n",
    "    J_vals_for_theta1 = np.array([])\n",
    "    \n",
    "    for theta0 in theta0_vals:\n",
    "        theta = np.array([[theta0],[theta1]])\n",
    "        J = mean_squared_error(X, y, theta)\n",
    "        J_vals_for_theta1 = np.append(J_vals_for_theta1, J)\n",
    "       \n",
    "    J_vals = np.append(J_vals, np.array([J_vals_for_theta1]), axis=0)\n",
    "\n",
    "Theta0_vals, Theta1_vals = np.meshgrid(theta0_vals, theta1_vals)\n",
    "    \n",
    "ax = plt.axes(projection='3d')\n",
    "ax.plot_surface(Theta0_vals, Theta1_vals, J_vals, rstride=1, cstride=1, cmap='viridis', edgecolor='none')    "
   ]
  },
  {
   "cell_type": "code",
   "execution_count": 12,
   "id": "21e21957",
   "metadata": {},
   "outputs": [
    {
     "data": {
      "text/plain": [
       "(50,)"
      ]
     },
     "execution_count": 12,
     "metadata": {},
     "output_type": "execute_result"
    }
   ],
   "source": [
    "a = [1,2,3]\n",
    "a = np.array(a)\n",
    "np.append(a,1)\n",
    "a.shape\n",
    "np.arange(-1, 4, 0.1).shape"
   ]
  },
  {
   "cell_type": "code",
   "execution_count": null,
   "id": "aece4a6e",
   "metadata": {},
   "outputs": [],
   "source": []
  },
  {
   "cell_type": "code",
   "execution_count": null,
   "id": "8a0e7b25",
   "metadata": {},
   "outputs": [],
   "source": []
  },
  {
   "cell_type": "code",
   "execution_count": 39,
   "id": "d26cedd5",
   "metadata": {},
   "outputs": [
    {
     "name": "stdout",
     "output_type": "stream",
     "text": [
      "(30,)\n",
      "(40, 30)\n",
      "(40,)\n",
      "(40, 30)\n",
      "(40, 30)\n"
     ]
    },
    {
     "data": {
      "image/png": "[encoded data removed]",
      "text/plain": [
       "<Figure size 432x288 with 1 Axes>"
      ]
     },
     "metadata": {
      "needs_background": "light"
     },
     "output_type": "display_data"
    }
   ],
   "source": [
    "def f(x, y):\n",
    "    return np.sin(np.sqrt(x ** 2 + y ** 2))\n",
    "\n",
    "x = np.linspace(-6, 6, 30)\n",
    "y = np.linspace(-6, 10, 40)\n",
    "\n",
    "X, Y = np.meshgrid(x, y)\n",
    "Z = f(X, Y)\n",
    "fig = plt.figure()\n",
    "ax = plt.axes(projection='3d')\n",
    "ax.contour3D(X, Y, Z, 50, cmap='binary')\n",
    "ax.set_xlabel('x')\n",
    "ax.set_ylabel('y')\n",
    "ax.set_zlabel('z');\n",
    "\n",
    "print(x.shape)\n",
    "print(X.shape)\n",
    "print(y.shape)\n",
    "print(Y.shape)\n",
    "print(Z.shape)"
   ]
  },
  {
   "cell_type": "code",
   "execution_count": null,
   "id": "76f31005",
   "metadata": {},
   "outputs": [],
   "source": []
  },
  {
   "cell_type": "code",
   "execution_count": 185,
   "id": "6644bc53",
   "metadata": {},
   "outputs": [
    {
     "data": {
      "text/plain": [
       "(1, 1)"
      ]
     },
     "execution_count": 185,
     "metadata": {},
     "output_type": "execute_result"
    }
   ],
   "source": [
    "m = np.shape(X)[0]\n",
    "X1 = np.hstack((np.ones((m, 1)), X))\n",
    "theta = np.zeros((2,1))\n",
    "C = mean_squared_error(X1, y, theta)\n",
    "C.shape"
   ]
  },
  {
   "cell_type": "code",
   "execution_count": 214,
   "id": "b42d1742",
   "metadata": {},
   "outputs": [
    {
     "name": "stdout",
     "output_type": "stream",
     "text": [
      "[1 2]\n",
      "[3 4]\n",
      "[5 6]\n"
     ]
    }
   ],
   "source": [
    "a = np.array([[1,2],[3,4],[5,6]])\n",
    "for x in a:\n",
    "    print(x)"
   ]
  },
  {
   "cell_type": "code",
   "execution_count": 95,
   "id": "a71c829e",
   "metadata": {
    "scrolled": true
   },
   "outputs": [
    {
     "ename": "SyntaxError",
     "evalue": "invalid syntax (<ipython-input-95-ff331baf3dbe>, line 2)",
     "output_type": "error",
     "traceback": [
      "\u001b[0;36m  File \u001b[0;32m\"<ipython-input-95-ff331baf3dbe>\"\u001b[0;36m, line \u001b[0;32m2\u001b[0m\n\u001b[0;31m    https://www.youtube.com/watch?v=QUT1VHiLmmI\u001b[0m\n\u001b[0m          ^\u001b[0m\n\u001b[0;31mSyntaxError\u001b[0m\u001b[0;31m:\u001b[0m invalid syntax\n"
     ]
    }
   ],
   "source": [
    "dataset[:, 1]\n",
    "https://www.youtube.com/watch?v=QUT1VHiLmmI"
   ]
  },
  {
   "cell_type": "code",
   "execution_count": null,
   "id": "32ad6fc4",
   "metadata": {},
   "outputs": [],
   "source": []
  },
  {
   "cell_type": "code",
   "execution_count": 2,
   "id": "079fd81a",
   "metadata": {},
   "outputs": [
    {
     "name": "stdout",
     "output_type": "stream",
     "text": [
      "[1 2 3]\n"
     ]
    }
   ],
   "source": [
    "import numpy as np\n",
    "a = np.array([1,2,3])\n",
    "print(a)"
   ]
  },
  {
   "cell_type": "code",
   "execution_count": 16,
   "id": "5f5e5499",
   "metadata": {},
   "outputs": [
    {
     "name": "stdout",
     "output_type": "stream",
     "text": [
      "[[1 2 3]\n",
      " [4 5 6]]\n"
     ]
    }
   ],
   "source": [
    "b = np.array([[1,2,3],[4,5,6]], dtype='int16')\n",
    "print(b)"
   ]
  },
  {
   "cell_type": "code",
   "execution_count": 17,
   "id": "b2ba4b3b",
   "metadata": {},
   "outputs": [
    {
     "data": {
      "text/plain": [
       "2"
      ]
     },
     "execution_count": 17,
     "metadata": {},
     "output_type": "execute_result"
    }
   ],
   "source": [
    "b.ndim"
   ]
  },
  {
   "cell_type": "code",
   "execution_count": 18,
   "id": "e8acdb2b",
   "metadata": {},
   "outputs": [
    {
     "data": {
      "text/plain": [
       "(2, 3)"
      ]
     },
     "execution_count": 18,
     "metadata": {},
     "output_type": "execute_result"
    }
   ],
   "source": [
    "b.shape"
   ]
  },
  {
   "cell_type": "code",
   "execution_count": 19,
   "id": "ba0dac75",
   "metadata": {},
   "outputs": [
    {
     "data": {
      "text/plain": [
       "dtype('int16')"
      ]
     },
     "execution_count": 19,
     "metadata": {},
     "output_type": "execute_result"
    }
   ],
   "source": [
    "b.dtype"
   ]
  },
  {
   "cell_type": "code",
   "execution_count": 20,
   "id": "6c0d47ca",
   "metadata": {},
   "outputs": [
    {
     "data": {
      "text/plain": [
       "2"
      ]
     },
     "execution_count": 20,
     "metadata": {},
     "output_type": "execute_result"
    }
   ],
   "source": [
    "b.itemsize"
   ]
  },
  {
   "cell_type": "code",
   "execution_count": 21,
   "id": "d8773f2b",
   "metadata": {},
   "outputs": [
    {
     "data": {
      "text/plain": [
       "12"
      ]
     },
     "execution_count": 21,
     "metadata": {},
     "output_type": "execute_result"
    }
   ],
   "source": [
    "b.nbytes"
   ]
  },
  {
   "cell_type": "code",
   "execution_count": 32,
   "id": "6c45be93",
   "metadata": {},
   "outputs": [
    {
     "name": "stdout",
     "output_type": "stream",
     "text": [
      "[[1 2 3]\n",
      " [4 5 6]\n",
      " [7 8 9]]\n"
     ]
    }
   ],
   "source": [
    "a = np.array([[1,2,3],[4,5,6],[7,8,9]])\n",
    "print(a)"
   ]
  },
  {
   "cell_type": "code",
   "execution_count": 33,
   "id": "0fd5353c",
   "metadata": {},
   "outputs": [
    {
     "data": {
      "text/plain": [
       "5"
      ]
     },
     "execution_count": 33,
     "metadata": {},
     "output_type": "execute_result"
    }
   ],
   "source": [
    "a[1,1]"
   ]
  },
  {
   "cell_type": "code",
   "execution_count": 34,
   "id": "b67fc666",
   "metadata": {},
   "outputs": [
    {
     "data": {
      "text/plain": [
       "array([1, 2, 3])"
      ]
     },
     "execution_count": 34,
     "metadata": {},
     "output_type": "execute_result"
    }
   ],
   "source": [
    "a[0,:]"
   ]
  },
  {
   "cell_type": "code",
   "execution_count": 35,
   "id": "47c2803d",
   "metadata": {},
   "outputs": [
    {
     "data": {
      "text/plain": [
       "array([1, 4, 7])"
      ]
     },
     "execution_count": 35,
     "metadata": {},
     "output_type": "execute_result"
    }
   ],
   "source": [
    "a[:, 0]"
   ]
  },
  {
   "cell_type": "code",
   "execution_count": 38,
   "id": "1d9ffd72",
   "metadata": {},
   "outputs": [
    {
     "data": {
      "text/plain": [
       "array([[1, 1, 1],\n",
       "       [1, 1, 1]], dtype=int32)"
      ]
     },
     "execution_count": 38,
     "metadata": {},
     "output_type": "execute_result"
    }
   ],
   "source": [
    "np.ones((2,3), dtype='int32')"
   ]
  },
  {
   "cell_type": "code",
   "execution_count": 3,
   "id": "3ee07078",
   "metadata": {},
   "outputs": [
    {
     "data": {
      "text/plain": [
       "array([[1., 0., 0.],\n",
       "       [0., 1., 0.],\n",
       "       [0., 0., 1.]])"
      ]
     },
     "execution_count": 3,
     "metadata": {},
     "output_type": "execute_result"
    }
   ],
   "source": [
    "np.identity(3)"
   ]
  },
  {
   "cell_type": "code",
   "execution_count": null,
   "id": "01b4a8e7",
   "metadata": {},
   "outputs": [],
   "source": [
    "b = a.copy() # zmiana b nie nadpisze a"
   ]
  },
  {
   "cell_type": "code",
   "execution_count": 5,
   "id": "44221e9a",
   "metadata": {},
   "outputs": [
    {
     "data": {
      "text/plain": [
       "array([2, 4, 6])"
      ]
     },
     "execution_count": 5,
     "metadata": {},
     "output_type": "execute_result"
    }
   ],
   "source": [
    "a * 2"
   ]
  },
  {
   "cell_type": "code",
   "execution_count": 6,
   "id": "6b207a26",
   "metadata": {},
   "outputs": [
    {
     "data": {
      "text/plain": [
       "array([0.84147098, 0.90929743, 0.14112001])"
      ]
     },
     "execution_count": 6,
     "metadata": {},
     "output_type": "execute_result"
    }
   ],
   "source": [
    "np.sin(a)"
   ]
  },
  {
   "cell_type": "code",
   "execution_count": 11,
   "id": "12fd445a",
   "metadata": {},
   "outputs": [
    {
     "data": {
      "text/plain": [
       "array([[ 3],\n",
       "       [ 7],\n",
       "       [11]])"
      ]
     },
     "execution_count": 11,
     "metadata": {},
     "output_type": "execute_result"
    }
   ],
   "source": [
    "a = np.array([[1, 2], [3, 4], [5, 6]])\n",
    "b = np.array([[1], [1]])\n",
    "np.matmul(a, b)"
   ]
  },
  {
   "cell_type": "code",
   "execution_count": 19,
   "id": "2cc153f0",
   "metadata": {},
   "outputs": [
    {
     "data": {
      "text/plain": [
       "array([[1., 1., 2.],\n",
       "       [1., 3., 4.],\n",
       "       [1., 5., 6.]])"
      ]
     },
     "execution_count": 19,
     "metadata": {},
     "output_type": "execute_result"
    }
   ],
   "source": [
    "o = np.ones((3,1))\n",
    "np.hstack((o, a))"
   ]
  },
  {
   "cell_type": "code",
   "execution_count": 20,
   "id": "c217a456",
   "metadata": {},
   "outputs": [
    {
     "data": {
      "text/plain": [
       "array([[False, False],\n",
       "       [ True,  True],\n",
       "       [ True,  True]])"
      ]
     },
     "execution_count": 20,
     "metadata": {},
     "output_type": "execute_result"
    }
   ],
   "source": [
    "a > 2"
   ]
  },
  {
   "cell_type": "code",
   "execution_count": 21,
   "id": "7644befc",
   "metadata": {},
   "outputs": [
    {
     "data": {
      "text/plain": [
       "array([3, 4, 5, 6])"
      ]
     },
     "execution_count": 21,
     "metadata": {},
     "output_type": "execute_result"
    }
   ],
   "source": [
    "a[a > 2]"
   ]
  },
  {
   "cell_type": "code",
   "execution_count": 23,
   "id": "97dd952e",
   "metadata": {},
   "outputs": [
    {
     "data": {
      "text/plain": [
       "array([[3, 4],\n",
       "       [5, 6]])"
      ]
     },
     "execution_count": 23,
     "metadata": {},
     "output_type": "execute_result"
    }
   ],
   "source": [
    "a[[1,2]]"
   ]
  },
  {
   "cell_type": "code",
   "execution_count": null,
   "id": "e32b448d",
   "metadata": {},
   "outputs": [],
   "source": []
  },
  {
   "cell_type": "code",
   "execution_count": null,
   "id": "1709acfb",
   "metadata": {},
   "outputs": [],
   "source": []
  },
  {
   "cell_type": "code",
   "execution_count": null,
   "id": "2ca93bde",
   "metadata": {},
   "outputs": [],
   "source": []
  },
  {
   "cell_type": "code",
   "execution_count": null,
   "id": "c96dd85e",
   "metadata": {},
   "outputs": [],
   "source": []
  },
  {
   "cell_type": "code",
   "execution_count": null,
   "id": "e8bae687",
   "metadata": {},
   "outputs": [],
   "source": [
    "https://www.youtube.com/watch?v=3Xc3CA655Y4"
   ]
  },
  {
   "cell_type": "code",
   "execution_count": null,
   "id": "10ccef0a",
   "metadata": {},
   "outputs": [],
   "source": []
  },
  {
   "cell_type": "code",
   "execution_count": null,
   "id": "ba2f83c3",
   "metadata": {},
   "outputs": [],
   "source": []
  },
  {
   "cell_type": "code",
   "execution_count": null,
   "id": "15d823ad",
   "metadata": {},
   "outputs": [],
   "source": []
  },
  {
   "cell_type": "code",
   "execution_count": null,
   "id": "a39c0521",
   "metadata": {},
   "outputs": [],
   "source": []
  }
 ],
 "metadata": {
  "kernelspec": {
   "display_name": "Python 3",
   "language": "python",
   "name": "python3"
  },
  "language_info": {
   "codemirror_mode": {
    "name": "ipython",
    "version": 3
   },
   "file_extension": ".py",
   "mimetype": "text/x-python",
   "name": "python",
   "nbconvert_exporter": "python",
   "pygments_lexer": "ipython3",
   "version": "3.9.4"
  },
  "toc": {
   "base_numbering": 1,
   "nav_menu": {
    "height": "72px",
    "width": "374px"
   },
   "number_sections": true,
   "sideBar": true,
   "skip_h1_title": false,
   "title_cell": "Machine learning algorithms.",
   "title_sidebar": "Table of content",
   "toc_cell": true,
   "toc_position": {
    "height": "calc(100% - 180px)",
    "left": "10px",
    "top": "150px",
    "width": "263px"
   },
   "toc_section_display": true,
   "toc_window_display": true
  }
 },
 "nbformat": 4,
 "nbformat_minor": 5
}
