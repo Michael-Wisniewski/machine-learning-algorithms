{
 "cells": [
  {
   "cell_type": "markdown",
   "id": "d8bb3c49",
   "metadata": {
    "toc": true
   },
   "source": [
    "<h1>Logistic regression algorithms.<span class=\"tocSkip\"></span></h1>\n",
    "<div class=\"toc\"><ul class=\"toc-item\"><li><span><a href=\"#Logistic-regression\" data-toc-modified-id=\"Logistic-regression-1\"><span class=\"toc-item-num\">1&nbsp;&nbsp;</span>Logistic regression</a></span><ul class=\"toc-item\"><li><span><a href=\"#Hypothesis\" data-toc-modified-id=\"Hypothesis-1.1\"><span class=\"toc-item-num\">1.1&nbsp;&nbsp;</span>Hypothesis</a></span></li><li><span><a href=\"#Cost-function\" data-toc-modified-id=\"Cost-function-1.2\"><span class=\"toc-item-num\">1.2&nbsp;&nbsp;</span>Cost function</a></span></li><li><span><a href=\"#Gradient-descent\" data-toc-modified-id=\"Gradient-descent-1.3\"><span class=\"toc-item-num\">1.3&nbsp;&nbsp;</span>Gradient descent</a></span></li><li><span><a href=\"#Mutliclass-classification---one-vs.-all\" data-toc-modified-id=\"Mutliclass-classification---one-vs.-all-1.4\"><span class=\"toc-item-num\">1.4&nbsp;&nbsp;</span>Mutliclass classification - one vs. all</a></span></li></ul></li><li><span><a href=\"#Logistic-regression-implementations\" data-toc-modified-id=\"Logistic-regression-implementations-2\"><span class=\"toc-item-num\">2&nbsp;&nbsp;</span>Logistic regression implementations</a></span><ul class=\"toc-item\"><li><span><a href=\"#Sigmoid-function\" data-toc-modified-id=\"Sigmoid-function-2.1\"><span class=\"toc-item-num\">2.1&nbsp;&nbsp;</span>Sigmoid function</a></span></li><li><span><a href=\"#Cost-function\" data-toc-modified-id=\"Cost-function-2.2\"><span class=\"toc-item-num\">2.2&nbsp;&nbsp;</span>Cost function</a></span></li><li><span><a href=\"#Gradient-descent\" data-toc-modified-id=\"Gradient-descent-2.3\"><span class=\"toc-item-num\">2.3&nbsp;&nbsp;</span>Gradient descent</a></span></li><li><span><a href=\"#Feature-normalization\" data-toc-modified-id=\"Feature-normalization-2.4\"><span class=\"toc-item-num\">2.4&nbsp;&nbsp;</span>Feature normalization</a></span></li></ul></li><li><span><a href=\"#Logistic-regression-examples\" data-toc-modified-id=\"Logistic-regression-examples-3\"><span class=\"toc-item-num\">3&nbsp;&nbsp;</span>Logistic regression examples</a></span><ul class=\"toc-item\"><li><span><a href=\"#Plot-logistic-function\" data-toc-modified-id=\"Plot-logistic-function-3.1\"><span class=\"toc-item-num\">3.1&nbsp;&nbsp;</span>Plot logistic function</a></span></li><li><span><a href=\"#Plot-cost-function\" data-toc-modified-id=\"Plot-cost-function-3.2\"><span class=\"toc-item-num\">3.2&nbsp;&nbsp;</span>Plot cost function</a></span></li><li><span><a href=\"#Plot-univariable-hypothesis\" data-toc-modified-id=\"Plot-univariable-hypothesis-3.3\"><span class=\"toc-item-num\">3.3&nbsp;&nbsp;</span>Plot univariable hypothesis</a></span></li><li><span><a href=\"#Plot-multivariable-hypothesis\" data-toc-modified-id=\"Plot-multivariable-hypothesis-3.4\"><span class=\"toc-item-num\">3.4&nbsp;&nbsp;</span>Plot multivariable hypothesis</a></span></li><li><span><a href=\"#Plot-different-hypothesis-and-cost-function-values\" data-toc-modified-id=\"Plot-different-hypothesis-and-cost-function-values-3.5\"><span class=\"toc-item-num\">3.5&nbsp;&nbsp;</span>Plot different hypothesis and cost function values</a></span></li></ul></li></ul></div>"
   ]
  },
  {
   "cell_type": "markdown",
   "id": "f3cd9e10",
   "metadata": {},
   "source": [
    "# Logistic regression"
   ]
  },
  {
   "cell_type": "markdown",
   "id": "d8b14de7",
   "metadata": {},
   "source": [
    "n - number of features <br>\n",
    "m - number of training examples <br>\n",
    "$x^{(i)}$ - $i^{th}$ input variable <br>\n",
    "$y^{(i)}$ - $i^{th}$ output variable"
   ]
  },
  {
   "cell_type": "markdown",
   "id": "10e62e7b",
   "metadata": {},
   "source": [
    "## Hypothesis"
   ]
  },
  {
   "cell_type": "markdown",
   "id": "a3818b6f",
   "metadata": {},
   "source": [
    "Parameters: <br>\n",
    "&emsp; $\\theta_0, \\theta_1,... \\theta_n = \\theta$ <br><br>\n",
    "Hypothesis: <br>\n",
    "&emsp; $h_\\theta(x) = g(\\theta_0x_0+\\theta_1x_1+...+\\theta_nx_n) = g(\\theta^Tx)$\n",
    "&emsp; for $x_0=1$ <br>\n",
    "&emsp; $z = \\theta^Tx$ <br>\n",
    "&emsp; $g(z) = \\frac{1}{1+e^{-z}}$"
   ]
  },
  {
   "cell_type": "markdown",
   "id": "cab88599",
   "metadata": {},
   "source": [
    "## Cost function"
   ]
  },
  {
   "cell_type": "markdown",
   "id": "4697eb36",
   "metadata": {},
   "source": [
    "Cost function: <br>\n",
    "&emsp; $Cost(h_\\theta(x),y) =\\begin{cases}\n",
    "    -log(h_\\theta(x)) & \\text{if y=1}\\\\\n",
    "    -log(1-h_\\theta(x)) & \\text{if y=0}\n",
    "\\end{cases}$ <br>\n",
    "&emsp; $Cost(h_\\theta(x),y) = -ylog(h_\\theta(x)) - (1-y)log(1-h_\\theta(x))$ <br>\n",
    "&emsp; $J(\\theta) = \\frac{1}{m} \\sum \\limits _{i=1} ^m Cost(h_\\theta(x^{(i)}, y^{(i)})$ <br>\n",
    "&emsp; $J(\\theta) = -\\frac{1}{m} \\sum \\limits _{i=1} ^m \\big[y^{(i)}log(h_\\theta(x^{(i)})) + (1-y^{(i)})log(1-h_\\theta(x^{(i)})) \\big]$ <br>\n",
    "Vectorized cost function: <br>\n",
    "&emsp; $h = g(X\\theta)$ <br>\n",
    "&emsp; $J(\\theta) = \\frac{1}{m} (-y^Tlog(h) - (1-y)^Tlog(1-h))$"
   ]
  },
  {
   "cell_type": "markdown",
   "id": "4308cd01",
   "metadata": {},
   "source": [
    "## Gradient descent"
   ]
  },
  {
   "cell_type": "markdown",
   "id": "8323ee07",
   "metadata": {},
   "source": [
    "$\\alpha$ - learning rate <br><br>\n",
    "Gradient descent algorithm: <br>\n",
    "&emsp; $\\theta_j := \\theta_j - \\alpha \\frac{\\partial}{\\partial\\theta_j}J(\\theta)$ <br>\n",
    "&emsp; $\\theta_j := \\theta_j - \\frac{\\alpha}{m} \\sum \\limits _{i=1} ^m (h_\\theta(x^{(i)}) - y^{(i)})x_j^{(i)}$ <br>\n",
    "Vectorized gradient descent: <br>\n",
    "&emsp; $\\theta := \\theta - \\frac{\\alpha}{m}X^T(g(X\\theta) - y)$"
   ]
  },
  {
   "cell_type": "markdown",
   "id": "ff43773b",
   "metadata": {},
   "source": [
    "## Mutliclass classification - one vs. all"
   ]
  },
  {
   "cell_type": "markdown",
   "id": "bf0ed3c6",
   "metadata": {},
   "source": [
    "$h_\\theta^{(i)}(x) = P(y=i|x;\\theta)$ &emsp; for $i \\in \\{0,1,..n\\}$ <br><br>\n",
    "$\\begin{aligned}\n",
    "   h_\\theta^{(0)}(x) &= P(y=0|x;\\theta) \\\\\n",
    "   h_\\theta^{(1)}(x) &= P(y=1|x;\\theta) \\\\\n",
    "   &\\vdots\\\\\n",
    "   h_\\theta^{(n)}(x) &= P(y=n|x;\\theta)\n",
    "\\end{aligned}$"
   ]
  },
  {
   "cell_type": "markdown",
   "id": "770335f8",
   "metadata": {},
   "source": [
    "# Logistic regression implementations"
   ]
  },
  {
   "cell_type": "markdown",
   "id": "2c63c2cc",
   "metadata": {},
   "source": [
    "## Sigmoid function"
   ]
  },
  {
   "cell_type": "code",
   "execution_count": 1,
   "id": "2c8def33",
   "metadata": {},
   "outputs": [],
   "source": [
    "import numpy as np\n",
    "\n",
    "def sigmoid(z):\n",
    "    return 1 / (1 + np.exp(-z))"
   ]
  },
  {
   "cell_type": "markdown",
   "id": "a65d85a5",
   "metadata": {},
   "source": [
    "## Cost function"
   ]
  },
  {
   "cell_type": "code",
   "execution_count": 15,
   "id": "ad9c8f45",
   "metadata": {},
   "outputs": [],
   "source": [
    "import numpy as np\n",
    "\n",
    "def cost_function(X, y, theta):\n",
    "    m = X.shape[0]\n",
    "    h_theta = sigmoid(X @ theta)\n",
    "    J = (1 / m) * (-y.T @ np.log(h_theta) - (1 - y).T @ np.log(1 - h_theta))\n",
    "    return J[0][0]"
   ]
  },
  {
   "cell_type": "markdown",
   "id": "49ecadfa",
   "metadata": {},
   "source": [
    "## Gradient descent"
   ]
  },
  {
   "cell_type": "code",
   "execution_count": null,
   "id": "fbaecb81",
   "metadata": {},
   "outputs": [],
   "source": [
    "def gradient_descent(ssss)"
   ]
  },
  {
   "cell_type": "markdown",
   "id": "3824a77b",
   "metadata": {},
   "source": [
    "## Feature normalization"
   ]
  },
  {
   "cell_type": "code",
   "execution_count": 3,
   "id": "cc2a6763",
   "metadata": {},
   "outputs": [],
   "source": [
    "def feature_normalize(X):\n",
    "    mu = np.array([np.mean(X, axis=0)])\n",
    "    sigma = np.array([np.std(X, axis=0)])\n",
    "    t = np.ones((X.shape[0], 1))\n",
    "    X_norm = (X - t @ mu) / (t @ sigma)\n",
    "    return X_norm, mu, sigma"
   ]
  },
  {
   "cell_type": "markdown",
   "id": "380184e8",
   "metadata": {},
   "source": [
    "# Logistic regression examples"
   ]
  },
  {
   "cell_type": "markdown",
   "id": "1251f1fa",
   "metadata": {},
   "source": [
    "## Plot logistic function"
   ]
  },
  {
   "cell_type": "code",
   "execution_count": 4,
   "id": "abd22fa7",
   "metadata": {},
   "outputs": [
    {
     "data": {
      "image/png": "[encoded data removed]",
      "text/plain": [
       "<Figure size 432x288 with 1 Axes>"
      ]
     },
     "metadata": {
      "needs_background": "light"
     },
     "output_type": "display_data"
    }
   ],
   "source": [
    "import numpy as np\n",
    "from matplotlib import pyplot as plt\n",
    "\n",
    "z_vals = np.arange(-10, 10)\n",
    "z_vals = z_vals.reshape(z_vals.shape[0], 1)\n",
    "g_vals = sigmoid(z_vals)\n",
    "    \n",
    "plt.title('Sigmoid function')\n",
    "plt.xlabel('z')\n",
    "plt.ylabel('g(z)')\n",
    "plt.yticks(np.arange(0, 1, 0.1))\n",
    "plt.plot(z_vals, g_vals)\n",
    "plt.plot([0, 0], [0, 1], color='green')\n",
    "plt.plot([np.min(z_vals), np.max(z_vals)], [0.5, 0.5], color='green', ls='--')\n",
    "plt.show()"
   ]
  },
  {
   "cell_type": "markdown",
   "id": "a8e9b8fe",
   "metadata": {},
   "source": [
    "$h_\\theta(x)$ - estimated probability that y = 1 on input x <br><br>\n",
    "$h_\\theta(x) = P(y=1|x;\\theta) = 1 - P(y=0|x;\\theta)$ <br>\n",
    "$P(y=0|x;\\theta) + P(y=1|x;\\theta) = 1$ <br><br>\n",
    "\n",
    "$h_\\theta(x) \\geq 0.5 -> y=1$ <br>\n",
    "$h_\\theta(x) < 0.5 -> y=0$ <br><br>\n",
    "\n",
    "$g(z) \\geq 0.5$ when $z \\geq 0 <=> \\theta^Tx \\geq 0$ <br>\n",
    "$g(z) < 0.5$ when $z < 0 <=> \\theta^Tx < 0$"
   ]
  },
  {
   "cell_type": "markdown",
   "id": "10465f6a",
   "metadata": {},
   "source": [
    "## Plot cost function"
   ]
  },
  {
   "cell_type": "code",
   "execution_count": 5,
   "id": "e87ff378",
   "metadata": {},
   "outputs": [
    {
     "data": {
      "image/png": "[encoded data removed]",
      "text/plain": [
       "<Figure size 1152x288 with 2 Axes>"
      ]
     },
     "metadata": {
      "needs_background": "light"
     },
     "output_type": "display_data"
    }
   ],
   "source": [
    "import numpy as np\n",
    "from matplotlib import pyplot as plt\n",
    "\n",
    "h_xs = np.arange(0.01, 1, 0.01)\n",
    "J_vals = []\n",
    "\n",
    "plt.figure(figsize=(16, 4))\n",
    "\n",
    "# Ploting cost function for y=1\n",
    "for h_x in h_xs:\n",
    "    J = -np.log(h_x)\n",
    "    J_vals.append(J)\n",
    "\n",
    "plt.subplot(1, 2, 1)\n",
    "plt.title('y=1')\n",
    "plt.xlabel(r'$h_\\theta(x)$')\n",
    "plt.ylabel(r'$J(\\theta)$')\n",
    "plt.plot(h_xs, J_vals)\n",
    "\n",
    "# Ploting cost function for y=0\n",
    "J_vals = []\n",
    "for h_x in h_xs:\n",
    "    J = -np.log(1-h_x)\n",
    "    J_vals.append(J)\n",
    "\n",
    "plt.subplot(1, 2, 2)\n",
    "plt.title('y=0')\n",
    "plt.xlabel(r'$h_\\theta(x)$')\n",
    "plt.ylabel(r'$J(\\theta)$')\n",
    "plt.plot(h_xs, J_vals)\n",
    "\n",
    "plt.show()"
   ]
  },
  {
   "cell_type": "markdown",
   "id": "4830ce13",
   "metadata": {},
   "source": [
    "## Plot univariable hypothesis"
   ]
  },
  {
   "cell_type": "code",
   "execution_count": 6,
   "id": "80f7713f",
   "metadata": {},
   "outputs": [
    {
     "data": {
      "image/png": "[encoded data removed]",
      "text/plain": [
       "<Figure size 432x288 with 1 Axes>"
      ]
     },
     "metadata": {
      "needs_background": "light"
     },
     "output_type": "display_data"
    }
   ],
   "source": [
    "import numpy as np\n",
    "from matplotlib import pyplot as plt\n",
    "\n",
    "X = np.array([-3, -2.1, -1.2, -1, 0, 1, 3, 3.5, 3.7, 4, 5, 6])\n",
    "y = np.array([0, 0, 0, 0, 0, 0, 1, 1, 1, 1, 1, 1])\n",
    "\n",
    "plt.xlabel('x')\n",
    "plt.ylabel('y')\n",
    "plt.yticks([0, 1])\n",
    "plt.scatter(X[y==0], y[y==0], marker='o', color='blue')\n",
    "plt.scatter(X[y==1], y[y==1], marker='x', color='orange')\n",
    "plt.plot([2, 2], [0, 1], color='green')\n",
    "plt.fill_between([2, min(X)], [0, 0], 1, color='blue', alpha=0.1)\n",
    "plt.fill_between([2, max(X)], [0, 0], 1, color='orange', alpha=0.1)\n",
    "plt.show()"
   ]
  },
  {
   "cell_type": "markdown",
   "id": "93ace8c6",
   "metadata": {},
   "source": [
    "## Plot multivariable hypothesis"
   ]
  },
  {
   "cell_type": "code",
   "execution_count": 7,
   "id": "e9fda466",
   "metadata": {
    "scrolled": true
   },
   "outputs": [
    {
     "data": {
      "image/png": "[encoded data removed]",
      "text/plain": [
       "<Figure size 432x288 with 1 Axes>"
      ]
     },
     "metadata": {
      "needs_background": "light"
     },
     "output_type": "display_data"
    }
   ],
   "source": [
    "import numpy as np\n",
    "from matplotlib import pyplot as plt\n",
    "\n",
    "# Columns: first exam score, second exam score, admitted into a university\n",
    "data = np.loadtxt('datasets/exams_results.csv', delimiter=',')\n",
    "X = data[:, [0,1]]\n",
    "y = data[:, 2]\n",
    "\n",
    "# Plot data\n",
    "plt.title('Exams results')\n",
    "plt.xlabel('First exam score')\n",
    "plt.ylabel('Second exam score')\n",
    "not_admitted = plt.scatter(*X[y==0].T, marker='o', color='blue')\n",
    "admitted = plt.scatter(*X[y==1].T, marker='x', color='orange')\n",
    "plt.legend(\n",
    "    (not_admitted, admitted),\n",
    "    ('not admitted', 'admitted'),\n",
    "    loc='upper right'\n",
    ")\n",
    "# Plot hypothesis\n",
    "theta = np.array([[120], [-0.45], [-0.45]])\n",
    "\n",
    "x1_min, x1_max = np.min(X[:, 0]), np.max(X[:, 0])\n",
    "x2_min, x2_max = np.min(X[:, 1]), np.max(X[:, 1])\n",
    "\n",
    "args = np.array([\n",
    "    [1, x1_min, x2_min],\n",
    "    [1, x1_max, x2_max],\n",
    "])\n",
    "pred = args @ theta\n",
    "plt.plot(args[:,1], pred, color='green')\n",
    "plt.fill_between(args[:,1], pred.flat, x2_min, color='blue', alpha=0.1)\n",
    "plt.fill_between(args[:,1], pred.flat, x2_max, color='orange', alpha=0.1)\n",
    "plt.show()"
   ]
  },
  {
   "cell_type": "markdown",
   "id": "45536fb4",
   "metadata": {},
   "source": [
    "## Plot different hypothesis and cost function values"
   ]
  },
  {
   "cell_type": "code",
   "execution_count": 31,
   "id": "137b2ac9",
   "metadata": {},
   "outputs": [
    {
     "data": {
      "image/png": "[encoded data removed]",
      "text/plain": [
       "<Figure size 432x288 with 1 Axes>"
      ]
     },
     "metadata": {
      "needs_background": "light"
     },
     "output_type": "display_data"
    }
   ],
   "source": [
    "import numpy as np\n",
    "from matplotlib import pyplot as plt\n",
    "\n",
    "# Columns: first exam score, second exam score, admitted into a university.\n",
    "data = np.loadtxt('datasets/exams_results.csv', delimiter=',')\n",
    "\n",
    "m = data.shape[0]\n",
    "X = data[:, [0,1]]\n",
    "X, _, _ = feature_normalize(X)\n",
    "X = np.hstack((np.ones((m, 1)), X))\n",
    "y = data[:, [2]]\n",
    "\n",
    "# Plot data\n",
    "plt.title('Exams results')\n",
    "plt.xlabel('First exam score')\n",
    "plt.ylabel('Second exam score')\n",
    "plt.scatter(*X[:, [1, 2]][y[:, 0]==0].T, marker='o', color='blue')\n",
    "plt.scatter(*X[:, [1, 2]][y[:, 0]==1].T, marker='x', color='orange')\n",
    "\n",
    "# Plot hypothesis\n",
    "thetas = np.array([\n",
    "    [[2], [-0.45], [-0.45]],\n",
    "    [[0], [-0.45], [-0.45]],\n",
    "    [[-2], [-0.45], [-0.45]],\n",
    "    \n",
    "])\n",
    "\n",
    "x1_min, x1_max = np.min(X[:, 1]), np.max(X[:, 1])\n",
    "x2_min, x2_max = np.min(X[:, 2]), np.max(X[:, 2])\n",
    "\n",
    "args = np.array([\n",
    "    [1, x1_min, x2_min],\n",
    "    [1, x1_max, x2_max],\n",
    "])\n",
    "\n",
    "for theta in thetas:\n",
    "    J = cost_function(X, y, theta)\n",
    "    pred = args @ theta\n",
    "    label = f\"J={np.around(J, 2)}\"\n",
    "    plt.plot(args[:, 1], pred, label=label)\n",
    "\n",
    "plt.legend(loc='upper right')\n",
    "plt.show()"
   ]
  },
  {
   "cell_type": "code",
   "execution_count": 12,
   "id": "666b3a3c",
   "metadata": {},
   "outputs": [
    {
     "ename": "SyntaxError",
     "evalue": "invalid syntax (<ipython-input-12-64b15d9451a7>, line 1)",
     "output_type": "error",
     "traceback": [
      "\u001b[0;36m  File \u001b[0;32m\"<ipython-input-12-64b15d9451a7>\"\u001b[0;36m, line \u001b[0;32m1\u001b[0m\n\u001b[0;31m    Multiclass classification\u001b[0m\n\u001b[0m               ^\u001b[0m\n\u001b[0;31mSyntaxError\u001b[0m\u001b[0;31m:\u001b[0m invalid syntax\n"
     ]
    }
   ],
   "source": [
    "Multiclass classification"
   ]
  },
  {
   "cell_type": "code",
   "execution_count": null,
   "id": "b4d7cc8d",
   "metadata": {},
   "outputs": [],
   "source": [
    "https://scipython.com/blog/plotting-the-decision-boundary-of-a-logistic-regression-model/"
   ]
  },
  {
   "cell_type": "code",
   "execution_count": null,
   "id": "5dd4273d",
   "metadata": {},
   "outputs": [],
   "source": [
    " regularyzacja jako osobny topic"
   ]
  },
  {
   "cell_type": "code",
   "execution_count": null,
   "id": "97c4b69a",
   "metadata": {},
   "outputs": [],
   "source": [
    "zmienić .dot na * (przekonwertować na matrix) - czy wektor może być matrix?"
   ]
  },
  {
   "cell_type": "code",
   "execution_count": null,
   "id": "4d057e08",
   "metadata": {},
   "outputs": [],
   "source": [
    "zmienić .dot na * (przekonwertować na matrix) - czy wektor może być matrix"
   ]
  },
  {
   "cell_type": "code",
   "execution_count": null,
   "id": "9f6248e1",
   "metadata": {},
   "outputs": [],
   "source": []
  },
  {
   "cell_type": "code",
   "execution_count": 34,
   "id": "afa7a5e1",
   "metadata": {},
   "outputs": [
    {
     "name": "stdout",
     "output_type": "stream",
     "text": [
      "Cost 0.6931471805599453\n",
      "Cost nan\n"
     ]
    },
    {
     "name": "stderr",
     "output_type": "stream",
     "text": [
      "<ipython-input-1-23d4d014f56d>:4: RuntimeWarning: overflow encountered in exp\n",
      "  return 1 / (1 + np.exp(-z))\n",
      "<ipython-input-15-acdd958124f6>:6: RuntimeWarning: divide by zero encountered in log\n",
      "  J = (1 / m) * (-y.T @ np.log(h_theta) - (1 - y).T @ np.log(1 - h_theta))\n",
      "<ipython-input-15-acdd958124f6>:6: RuntimeWarning: invalid value encountered in matmul\n",
      "  J = (1 / m) * (-y.T @ np.log(h_theta) - (1 - y).T @ np.log(1 - h_theta))\n"
     ]
    }
   ],
   "source": [
    "import numpy as np\n",
    "from matplotlib import pyplot as plt\n",
    "\n",
    "# Columns: first exam score, second exam score, admitted into a university.\n",
    "data = np.loadtxt('datasets/exams_results.csv', delimiter=',')\n",
    "\n",
    "m = data.shape[0]\n",
    "X = data[:, [0,1]]\n",
    "X = np.hstack((np.ones((m, 1)), X))\n",
    "y = data[:, [2]]\n",
    "\n",
    "# Plot hypothesis\n",
    "theta = np.array([[0], [0], [0]])\n",
    "print('Cost', cost_function(X, y, theta))\n",
    "print('Gradient', )"
   ]
  }
 ],
 "metadata": {
  "kernelspec": {
   "display_name": "Python 3",
   "language": "python",
   "name": "python3"
  },
  "language_info": {
   "codemirror_mode": {
    "name": "ipython",
    "version": 3
   },
   "file_extension": ".py",
   "mimetype": "text/x-python",
   "name": "python",
   "nbconvert_exporter": "python",
   "pygments_lexer": "ipython3",
   "version": "3.9.4"
  },
  "toc": {
   "base_numbering": 1,
   "nav_menu": {
    "height": "301px",
    "width": "721px"
   },
   "number_sections": true,
   "sideBar": true,
   "skip_h1_title": false,
   "title_cell": "Logistic regression algorithms.",
   "title_sidebar": "Table of content",
   "toc_cell": true,
   "toc_position": {
    "height": "calc(100% - 180px)",
    "left": "10px",
    "top": "150px",
    "width": "374.275px"
   },
   "toc_section_display": true,
   "toc_window_display": true
  }
 },
 "nbformat": 4,
 "nbformat_minor": 5
}
