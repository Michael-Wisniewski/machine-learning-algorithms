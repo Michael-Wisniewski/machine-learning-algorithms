{
 "cells": [
  {
   "cell_type": "markdown",
   "id": "d8bb3c49",
   "metadata": {
    "tags": [],
    "toc": true
   },
   "source": [
    "<h1>Logistic regression algorithms.<span class=\"tocSkip\"></span></h1>\n",
    "<div class=\"toc\"><ul class=\"toc-item\"><li><span><a href=\"#Logistic-regression\" data-toc-modified-id=\"Logistic-regression-1\"><span class=\"toc-item-num\">1&nbsp;&nbsp;</span>Logistic regression</a></span><ul class=\"toc-item\"><li><span><a href=\"#Hypothesis\" data-toc-modified-id=\"Hypothesis-1.1\"><span class=\"toc-item-num\">1.1&nbsp;&nbsp;</span>Hypothesis</a></span></li><li><span><a href=\"#Cost-function\" data-toc-modified-id=\"Cost-function-1.2\"><span class=\"toc-item-num\">1.2&nbsp;&nbsp;</span>Cost function</a></span></li><li><span><a href=\"#Gradient-descent\" data-toc-modified-id=\"Gradient-descent-1.3\"><span class=\"toc-item-num\">1.3&nbsp;&nbsp;</span>Gradient descent</a></span></li><li><span><a href=\"#Mutliclass-classification---one-vs.-all\" data-toc-modified-id=\"Mutliclass-classification---one-vs.-all-1.4\"><span class=\"toc-item-num\">1.4&nbsp;&nbsp;</span>Mutliclass classification - one vs. all</a></span></li></ul></li><li><span><a href=\"#Logistic-regression-implementations\" data-toc-modified-id=\"Logistic-regression-implementations-2\"><span class=\"toc-item-num\">2&nbsp;&nbsp;</span>Logistic regression implementations</a></span><ul class=\"toc-item\"><li><span><a href=\"#Sigmoid-function\" data-toc-modified-id=\"Sigmoid-function-2.1\"><span class=\"toc-item-num\">2.1&nbsp;&nbsp;</span>Sigmoid function</a></span></li><li><span><a href=\"#Cost-function\" data-toc-modified-id=\"Cost-function-2.2\"><span class=\"toc-item-num\">2.2&nbsp;&nbsp;</span>Cost function</a></span></li><li><span><a href=\"#Gradient-descent\" data-toc-modified-id=\"Gradient-descent-2.3\"><span class=\"toc-item-num\">2.3&nbsp;&nbsp;</span>Gradient descent</a></span></li><li><span><a href=\"#Feature-normalization\" data-toc-modified-id=\"Feature-normalization-2.4\"><span class=\"toc-item-num\">2.4&nbsp;&nbsp;</span>Feature normalization</a></span></li></ul></li><li><span><a href=\"#Logistic-regression-examples\" data-toc-modified-id=\"Logistic-regression-examples-3\"><span class=\"toc-item-num\">3&nbsp;&nbsp;</span>Logistic regression examples</a></span><ul class=\"toc-item\"><li><span><a href=\"#Plot-logistic-function\" data-toc-modified-id=\"Plot-logistic-function-3.1\"><span class=\"toc-item-num\">3.1&nbsp;&nbsp;</span>Plot logistic function</a></span></li><li><span><a href=\"#Plot-cost-function\" data-toc-modified-id=\"Plot-cost-function-3.2\"><span class=\"toc-item-num\">3.2&nbsp;&nbsp;</span>Plot cost function</a></span></li><li><span><a href=\"#Plot-univariable-hypothesis\" data-toc-modified-id=\"Plot-univariable-hypothesis-3.3\"><span class=\"toc-item-num\">3.3&nbsp;&nbsp;</span>Plot univariable hypothesis</a></span></li><li><span><a href=\"#Plot-multivariable-hypothesis\" data-toc-modified-id=\"Plot-multivariable-hypothesis-3.4\"><span class=\"toc-item-num\">3.4&nbsp;&nbsp;</span>Plot multivariable hypothesis</a></span></li><li><span><a href=\"#Plot-different-hypothesis-and-cost-function-values\" data-toc-modified-id=\"Plot-different-hypothesis-and-cost-function-values-3.5\"><span class=\"toc-item-num\">3.5&nbsp;&nbsp;</span>Plot different hypothesis and cost function values</a></span></li><li><span><a href=\"#Plot-cost-function-for-univariable-hypothesis\" data-toc-modified-id=\"Plot-cost-function-for-univariable-hypothesis-3.6\"><span class=\"toc-item-num\">3.6&nbsp;&nbsp;</span>Plot cost function for univariable hypothesis</a></span></li></ul></li></ul></div>"
   ]
  },
  {
   "cell_type": "markdown",
   "id": "f3cd9e10",
   "metadata": {},
   "source": [
    "# Logistic regression"
   ]
  },
  {
   "cell_type": "markdown",
   "id": "d8b14de7",
   "metadata": {},
   "source": [
    "n - number of features <br>\n",
    "m - number of training examples <br>\n",
    "$x^{(i)}$ - $i^{th}$ input variable <br>\n",
    "$y^{(i)}$ - $i^{th}$ output variable <br>\n",
    "$X$ - input set <br>\n",
    "&emsp; $X=\\begin{bmatrix} (x^{(1)})^T \\\\ (x^{(2)})^T \\\\ \\vdots  \\\\ (x^{(m)})^T \\end{bmatrix}$"
   ]
  },
  {
   "cell_type": "markdown",
   "id": "10e62e7b",
   "metadata": {},
   "source": [
    "## Hypothesis"
   ]
  },
  {
   "cell_type": "markdown",
   "id": "a3818b6f",
   "metadata": {},
   "source": [
    "Parameters: <br>\n",
    "&emsp; $\\theta_0, \\theta_1,... \\theta_n = \\theta$ <br><br>\n",
    "Hypothesis: <br>\n",
    "&emsp; $h_\\theta(x)$ - estimated probability that y = 1 on input x <br>\n",
    "&emsp; $h_\\theta(x) = g(\\theta_0x_0+\\theta_1x_1+...+\\theta_nx_n) = g(\\theta^Tx)$\n",
    "&emsp; for $x_0=1$ <br>\n",
    "&emsp; $z = \\theta^Tx$ <br>\n",
    "&emsp; $g(z) = \\frac{1}{1+e^{-z}}$ <br><br>\n",
    "&emsp; $0 \\le h_\\theta(x) \\le 1$ <br>\n",
    "&emsp; $h_\\theta(x) \\ge 0.5 \\Rightarrow y=1$ <br>\n",
    "&emsp; $h_\\theta(x) < 0.5 \\Rightarrow y=0$ <br>\n",
    "&emsp; $h_\\theta(x) = P(y=1|x;\\theta) = 1 - P(y=0|x;\\theta)$"
   ]
  },
  {
   "cell_type": "markdown",
   "id": "cab88599",
   "metadata": {},
   "source": [
    "## Cost function"
   ]
  },
  {
   "cell_type": "markdown",
   "id": "4697eb36",
   "metadata": {},
   "source": [
    "Cost: <br>\n",
    "&emsp; $Cost(h_\\theta(x),y) =\\begin{cases}\n",
    "    -log(h_\\theta(x)) & \\text{if y=1}\\\\\n",
    "    -log(1-h_\\theta(x)) & \\text{if y=0}\n",
    "\\end{cases}$ <br>\n",
    "Unified cost: <br>\n",
    "&emsp; $Cost(h_\\theta(x),y) = -ylog(h_\\theta(x)) - (1-y)log(1-h_\\theta(x))$ <br><br>\n",
    "Cost function: <br>\n",
    "&emsp; $J(\\theta) = \\frac{1}{m} \\sum \\limits _{i=1} ^m Cost(h_\\theta(x^{(i)}, y^{(i)})$ <br>\n",
    "&emsp; $J(\\theta) = -\\frac{1}{m} \\sum \\limits _{i=1} ^m \\big[y^{(i)}log(h_\\theta(x^{(i)})) + (1-y^{(i)})log(1-h_\\theta(x^{(i)})) \\big]$ <br><br>\n",
    "Vectorized cost function: <br>\n",
    "&emsp; $h = g(X\\theta)$ <br>\n",
    "&emsp; $J(\\theta) = -\\frac{1}{m} (y^Tlog(h) + (1-y)^Tlog(1-h))$"
   ]
  },
  {
   "cell_type": "markdown",
   "id": "4308cd01",
   "metadata": {},
   "source": [
    "## Gradient descent"
   ]
  },
  {
   "cell_type": "markdown",
   "id": "8323ee07",
   "metadata": {},
   "source": [
    "$\\alpha$ - learning rate <br><br>\n",
    "Gradient descent algorithm: <br>\n",
    "&emsp; $\\theta_j := \\theta_j - \\alpha \\frac{\\partial}{\\partial\\theta_j}J(\\theta)$ <br>\n",
    "&emsp; $\\theta_j := \\theta_j - \\frac{\\alpha}{m} \\sum \\limits _{i=1} ^m (h_\\theta(x^{(i)}) - y^{(i)})x_j^{(i)}$ &emsp; for j=0...n,  $x_0=1$ <br><br>\n",
    "Vectorized gradient descent: <br>\n",
    "&emsp; $\\theta := \\theta - \\frac{\\alpha}{m}X^T(g(X\\theta) - y)$"
   ]
  },
  {
   "cell_type": "markdown",
   "id": "ff43773b",
   "metadata": {
    "tags": []
   },
   "source": [
    "## Mutliclass classification - one vs. all"
   ]
  },
  {
   "cell_type": "markdown",
   "id": "bf0ed3c6",
   "metadata": {},
   "source": [
    "$h_\\theta^{(i)}(x) = P(y=i|x;\\theta)$ &emsp; for $i \\in \\{0,1,..n\\}$ <br><br>\n",
    "$\\begin{aligned}\n",
    "   h_\\theta^{(0)}(x) &= P(y=0|x;\\theta) \\\\\n",
    "   h_\\theta^{(1)}(x) &= P(y=1|x;\\theta) \\\\\n",
    "   &\\vdots\\\\\n",
    "   h_\\theta^{(n)}(x) &= P(y=n|x;\\theta)\n",
    "\\end{aligned}$ <br><br>\n",
    "Prediction: <br>\n",
    "$\\underset{i}{max}(h_\\theta^{(i)}(x))$"
   ]
  },
  {
   "cell_type": "markdown",
   "id": "770335f8",
   "metadata": {},
   "source": [
    "# Logistic regression implementations"
   ]
  },
  {
   "cell_type": "markdown",
   "id": "2c63c2cc",
   "metadata": {},
   "source": [
    "## Sigmoid function"
   ]
  },
  {
   "cell_type": "code",
   "execution_count": 2,
   "id": "2c8def33",
   "metadata": {},
   "outputs": [],
   "source": [
    "def sigmoid(z):\n",
    "    return 1 / (1 + np.exp(-z))"
   ]
  },
  {
   "cell_type": "markdown",
   "id": "a65d85a5",
   "metadata": {},
   "source": [
    "## Cost function"
   ]
  },
  {
   "cell_type": "code",
   "execution_count": 3,
   "id": "ad9c8f45",
   "metadata": {},
   "outputs": [],
   "source": [
    "import numpy as np\n",
    "\n",
    "def cost_function(X, y, theta):\n",
    "    m = X.shape[0]\n",
    "    h_theta = sigmoid(X @ theta)\n",
    "    J = (-1 / m) * (y.T @ np.log(h_theta) + (1 - y).T @ np.log(1 - h_theta))\n",
    "    return J[0]"
   ]
  },
  {
   "cell_type": "markdown",
   "id": "49ecadfa",
   "metadata": {},
   "source": [
    "## Gradient descent"
   ]
  },
  {
   "cell_type": "code",
   "execution_count": 74,
   "id": "fbaecb81",
   "metadata": {},
   "outputs": [],
   "source": [
    "def gradient_descent(X, y, theta, alpha):\n",
    "    m = X.shape[0]\n",
    "    # return theta - (alpha / m) * X.T @ (sigmoid(X @ theta) - y) performance optimisation\n",
    "    return theta - (alpha / m) * ((sigmoid(X @ theta) - y).T @ X).T"
   ]
  },
  {
   "cell_type": "markdown",
   "id": "3824a77b",
   "metadata": {},
   "source": [
    "## Feature normalization"
   ]
  },
  {
   "cell_type": "code",
   "execution_count": 5,
   "id": "cc2a6763",
   "metadata": {},
   "outputs": [],
   "source": [
    "# def feature_normalize(X):\n",
    "#     mu = np.array([np.mean(X, axis=0)])\n",
    "#     sigma = np.array([np.std(X, axis=0)])\n",
    "#     t = np.ones((X.shape[0], 1))\n",
    "#     X_norm = (X - t @ mu) / (t @ sigma)\n",
    "#     return X_norm, mu, sigma"
   ]
  },
  {
   "cell_type": "markdown",
   "id": "3fc5721d-1d8b-4c48-8778-47605fd2328f",
   "metadata": {},
   "source": [
    "## Mapping data set into gigher polynomial"
   ]
  },
  {
   "cell_type": "code",
   "execution_count": 6,
   "id": "5ff845f4-16cc-49b3-b9e0-8485ca52fa1e",
   "metadata": {},
   "outputs": [],
   "source": [
    "def map_data_into_degree(X, degree):\n",
    "    \"\"\"Converts features combinations into higher polynomial and.\n",
    "    E.g. X1, X2 into second order: X1, X2, X1^2, X1 * X2, X2^2\"\"\"\n",
    "    X1 = X[:, [0]]\n",
    "    X2 = X[:, [1]]\n",
    "           \n",
    "    for i in range(2, degree + 1):\n",
    "        for j in range(i + 1):\n",
    "            X = np.hstack((X, X1**(i-j) * X2**j))\n",
    "\n",
    "    return X    "
   ]
  },
  {
   "cell_type": "markdown",
   "id": "380184e8",
   "metadata": {},
   "source": [
    "# Logistic regression examples"
   ]
  },
  {
   "cell_type": "markdown",
   "id": "1251f1fa",
   "metadata": {},
   "source": [
    "## Plot logistic function"
   ]
  },
  {
   "cell_type": "code",
   "execution_count": 7,
   "id": "abd22fa7",
   "metadata": {},
   "outputs": [
    {
     "data": {
      "image/png": "[encoded data removed]",
      "text/plain": [
       "<Figure size 640x480 with 1 Axes>"
      ]
     },
     "metadata": {},
     "output_type": "display_data"
    }
   ],
   "source": [
    "import numpy as np\n",
    "from matplotlib import pyplot as plt\n",
    "\n",
    "z_vals = np.arange(-10, 10)\n",
    "z_vals = z_vals.reshape(len(z_vals), 1)\n",
    "g_vals = sigmoid(z_vals)\n",
    "    \n",
    "plt.title('Sigmoid function')\n",
    "plt.xlabel('z')\n",
    "plt.ylabel('g(z)')\n",
    "plt.yticks(np.arange(0, 1.1, 0.1))\n",
    "plt.plot(z_vals, g_vals)\n",
    "plt.plot([0, 0], [0, 1], color='green')\n",
    "plt.plot([np.min(z_vals), np.max(z_vals)], [0.5, 0.5], color='green', ls='--')\n",
    "plt.show()"
   ]
  },
  {
   "cell_type": "markdown",
   "id": "10465f6a",
   "metadata": {
    "tags": []
   },
   "source": [
    "## Plot cost function"
   ]
  },
  {
   "cell_type": "code",
   "execution_count": 8,
   "id": "e87ff378",
   "metadata": {},
   "outputs": [
    {
     "data": {
      "image/png": "[encoded data removed]",
      "text/plain": [
       "<Figure size 1600x400 with 2 Axes>"
      ]
     },
     "metadata": {},
     "output_type": "display_data"
    }
   ],
   "source": [
    "import numpy as np\n",
    "from matplotlib import pyplot as plt\n",
    "\n",
    "h_x_vals = np.arange(0.01, 1, 0.01)\n",
    "\n",
    "plt.figure(figsize=(16, 4))\n",
    "\n",
    "# Ploting cost function for y=1\n",
    "J_vals = []\n",
    "for h_x_val in h_x_vals:\n",
    "    J = -np.log(h_x_val)\n",
    "    J_vals.append(J)\n",
    "\n",
    "plt.subplot(1, 2, 1)\n",
    "plt.title('y=1')\n",
    "plt.xlabel(r'$h_\\theta(x)$')\n",
    "plt.ylabel(r'$J(\\theta)$')\n",
    "plt.plot(h_x_vals, J_vals)\n",
    "\n",
    "# Ploting cost function for y=0\n",
    "J_vals = []\n",
    "for h_x_val in h_x_vals:\n",
    "    J = -np.log(1 - h_x_val)\n",
    "    J_vals.append(J)\n",
    "\n",
    "plt.subplot(1, 2, 2)\n",
    "plt.title('y=0')\n",
    "plt.xlabel(r'$h_\\theta(x)$')\n",
    "plt.ylabel(r'$J(\\theta)$')\n",
    "plt.plot(h_x_vals, J_vals)\n",
    "\n",
    "plt.show()"
   ]
  },
  {
   "cell_type": "markdown",
   "id": "4830ce13",
   "metadata": {},
   "source": [
    "## Plot univariable hypothesis"
   ]
  },
  {
   "cell_type": "code",
   "execution_count": 9,
   "id": "80f7713f",
   "metadata": {},
   "outputs": [
    {
     "data": {
      "image/png": "[encoded data removed]",
      "text/plain": [
       "<Figure size 640x480 with 1 Axes>"
      ]
     },
     "metadata": {},
     "output_type": "display_data"
    }
   ],
   "source": [
    "import numpy as np\n",
    "from matplotlib import pyplot as plt\n",
    "\n",
    "X = np.array([-3, -2.1, -1.2, -1, 0, 1, 3, 3.5, 3.7, 4, 5, 6])\n",
    "y = np.array([0, 0, 0, 0, 0, 0, 1, 1, 1, 1, 1, 1])\n",
    "\n",
    "plt.xlabel('x')\n",
    "plt.ylabel('y')\n",
    "plt.yticks([0, 1])\n",
    "plt.scatter(X[y==0], y[y==0], marker='o', color='blue')\n",
    "plt.scatter(X[y==1], y[y==1], marker='x', color='orange')\n",
    "plt.plot([2, 2], [0, 1], color='green')\n",
    "plt.fill_between([2, min(X)], [0, 0], 1, color='blue', alpha=0.1)\n",
    "plt.fill_between([2, max(X)], [0, 0], 1, color='orange', alpha=0.1)\n",
    "plt.show()"
   ]
  },
  {
   "cell_type": "markdown",
   "id": "93ace8c6",
   "metadata": {},
   "source": [
    "## Plot multivariable first-order hypothesis"
   ]
  },
  {
   "cell_type": "code",
   "execution_count": 10,
   "id": "e9fda466",
   "metadata": {
    "scrolled": true
   },
   "outputs": [
    {
     "data": {
      "image/png": "[encoded data removed]",
      "text/plain": [
       "<Figure size 640x480 with 1 Axes>"
      ]
     },
     "metadata": {},
     "output_type": "display_data"
    }
   ],
   "source": [
    "import numpy as np\n",
    "from matplotlib import pyplot as plt\n",
    "\n",
    "# Columns: first exam score, second exam score, admitted into a university\n",
    "data = np.loadtxt('datasets/exams_results.csv', delimiter=',')\n",
    "X = data[:, [0,1]]\n",
    "y = data[:, 2]\n",
    "\n",
    "# Plot data\n",
    "plt.title('Exams results')\n",
    "plt.xlabel('First exam score')\n",
    "plt.ylabel('Second exam score')\n",
    "not_admitted = plt.scatter(*X[y==0].T, marker='o', color='blue')\n",
    "admitted = plt.scatter(*X[y==1].T, marker='x', color='orange')\n",
    "plt.legend(\n",
    "    (not_admitted, admitted),\n",
    "    ('not admitted', 'admitted'),\n",
    "    loc='upper right'\n",
    ")\n",
    "# Plot hypothesis\n",
    "theta = np.array([[120], [-0.45], [-0.45]])\n",
    "\n",
    "x1_min, x1_max = np.min(X[:, 0]), np.max(X[:, 0])\n",
    "x2_min, x2_max = np.min(X[:, 1]), np.max(X[:, 1])\n",
    "\n",
    "args = np.array([\n",
    "    [1, x1_min, x2_min],\n",
    "    [1, x1_max, x2_max],\n",
    "])\n",
    "pred = args @ theta\n",
    "plt.plot(args[:,1], pred, color='green')\n",
    "plt.fill_between(args[:,1], pred.flat, x2_min, color='blue', alpha=0.1)\n",
    "plt.fill_between(args[:,1], pred.flat, x2_max, color='orange', alpha=0.1)\n",
    "plt.show()"
   ]
  },
  {
   "cell_type": "markdown",
   "id": "311fd6a3-f58d-47af-b92d-84c4638cd8d6",
   "metadata": {},
   "source": [
    "## Plot multivariable second-order hypothesis"
   ]
  },
  {
   "cell_type": "code",
   "execution_count": 73,
   "id": "bbdc0d49-6446-4326-b64f-d887b449ed04",
   "metadata": {},
   "outputs": [
    {
     "data": {
      "image/png": "[encoded data removed]",
      "text/plain": [
       "<Figure size 640x480 with 1 Axes>"
      ]
     },
     "metadata": {},
     "output_type": "display_data"
    },
    {
     "data": {
      "text/plain": [
       "array([[  5.1664354 ],\n",
       "       [  3.24518921],\n",
       "       [  4.16347674],\n",
       "       [-12.01990649],\n",
       "       [ -7.52556783],\n",
       "       [-11.81515611]])"
      ]
     },
     "execution_count": 73,
     "metadata": {},
     "output_type": "execute_result"
    }
   ],
   "source": [
    "import numpy as np\n",
    "from matplotlib import pyplot as plt\n",
    "\n",
    "# Columns: first microchip test, second microchip test, microchip should be accepted or not\n",
    "data = np.loadtxt('datasets/microchip_test.csv', delimiter=',')\n",
    "X = data[:, [0,1]]\n",
    "y = data[:, [2]]\n",
    "m = X.shape[0]\n",
    "\n",
    "Plot data\n",
    "plt.title('QA tests')\n",
    "plt.xlabel('First test')\n",
    "plt.ylabel('Second test')\n",
    "accepted = plt.scatter(*X[y==1].T, marker='o', color='blue')\n",
    "rejected = plt.scatter(*X[y==0].T, marker='x', color='orange')\n",
    "plt.legend(\n",
    "    (accepted, rejected),\n",
    "    ('accepted', 'rejected'),\n",
    "    loc='upper right'\n",
    ")\n",
    "\n",
    "# Adding new features by mapping data into second-order polynomial. \n",
    "X = map_data_into_degree(X, 2)\n",
    "# Adding theta zero\n",
    "X = np.hstack((np.ones((m, 1)), X[:, 0:7]))\n",
    "\n",
    "# theta = np.zeros((X.shape[1], 1));\n",
    "# theta\n",
    "# Plot hypothesis\n",
    "# theta = \n",
    "\n",
    "# plt.show()\n",
    "\n",
    "\n",
    "\n",
    "\n",
    "\n",
    "\n",
    "\n",
    "\n",
    "iterations = 100000\n",
    "J_hist = np.array([])\n",
    "alpha = 0.1\n",
    "array([[5.17], [3.25], [4.16], [-12.02], [-7.53], [-11.82]])\n",
    "\n",
    "for _ in range(iterations):\n",
    "    J = cost_function(X, y, theta)\n",
    "    J_hist = np.append(J_hist, J)\n",
    "    theta = gradient_descent(X, y, theta, alpha)\n",
    "\n",
    "plt.xlabel('epochs')\n",
    "plt.ylabel(r'$J(\\theta)$')\n",
    "plt.plot(J_hist)\n",
    "plt.show()\n",
    "\n",
    "theta"
   ]
  },
  {
   "cell_type": "code",
   "execution_count": null,
   "id": "99175a96-5b46-40bd-a167-8f087ce04418",
   "metadata": {},
   "outputs": [],
   "source": [
    "calculate hypothesis"
   ]
  },
  {
   "cell_type": "code",
   "execution_count": null,
   "id": "6841325c-79c4-423e-98a8-1fca4fb0ca20",
   "metadata": {},
   "outputs": [],
   "source": [
    "import numpy as np\n",
    "from matplotlib import pyplot as plt\n",
    "\n",
    "# Columns: first microchip test, second microchip test, microchip should be accepted or not\n",
    "data = np.loadtxt('datasets/microchip_test.csv', delimiter=',')\n",
    "X = data[:, [0,1]]\n",
    "y = data[:, [2]]\n",
    "m = X.shape[0]\n",
    "\n",
    "Plot data\n",
    "plt.title('QA tests')\n",
    "plt.xlabel('First test')\n",
    "plt.ylabel('Second test')\n",
    "accepted = plt.scatter(*X[y==1].T, marker='o', color='blue')\n",
    "rejected = plt.scatter(*X[y==0].T, marker='x', color='orange')\n",
    "plt.legend(\n",
    "    (accepted, rejected),\n",
    "    ('accepted', 'rejected'),\n",
    "    loc='upper right'\n",
    ")\n",
    "\n",
    "# Adding new features by mapping data into second-order polynomial. \n",
    "X = map_data_into_degree(X, 2)\n",
    "# Adding theta zero\n",
    "X = np.hstack((np.ones((m, 1)), X[:, 0:7]))\n",
    "\n",
    "# theta = np.zeros((X.shape[1], 1));\n",
    "# theta\n",
    "# Plot hypothesis\n",
    "# theta = \n",
    "\n",
    "# plt.show()\n",
    "\n",
    "\n",
    "\n",
    "\n",
    "\n",
    "\n",
    "\n",
    "\n",
    "iterations = 100000\n",
    "J_hist = np.array([])\n",
    "alpha = 0.1\n",
    "array([[5.17], [3.25], [4.16], [-12.02], [-7.53], [-11.82]])\n",
    "\n",
    "for _ in range(iterations):\n",
    "    J = cost_function(X, y, theta)\n",
    "    J_hist = np.append(J_hist, J)\n",
    "    theta = gradient_descent(X, y, theta, alpha)\n",
    "\n",
    "plt.xlabel('epochs')\n",
    "plt.ylabel(r'$J(\\theta)$')\n",
    "plt.plot(J_hist)\n",
    "plt.show()\n",
    "\n",
    "theta"
   ]
  },
  {
   "cell_type": "markdown",
   "id": "45536fb4",
   "metadata": {},
   "source": [
    "## Plot different hypothesis and cost function values"
   ]
  },
  {
   "cell_type": "code",
   "execution_count": 12,
   "id": "137b2ac9",
   "metadata": {},
   "outputs": [
    {
     "ename": "NameError",
     "evalue": "name 'feature_normalize' is not defined",
     "output_type": "error",
     "traceback": [
      "\u001b[0;31m---------------------------------------------------------------------------\u001b[0m",
      "\u001b[0;31mNameError\u001b[0m                                 Traceback (most recent call last)",
      "Cell \u001b[0;32mIn [43], line 9\u001b[0m\n\u001b[1;32m      7\u001b[0m m \u001b[38;5;241m=\u001b[39m data\u001b[38;5;241m.\u001b[39mshape[\u001b[38;5;241m0\u001b[39m]\n\u001b[1;32m      8\u001b[0m X \u001b[38;5;241m=\u001b[39m data[:, [\u001b[38;5;241m0\u001b[39m,\u001b[38;5;241m1\u001b[39m]]\n\u001b[0;32m----> 9\u001b[0m X, _, _ \u001b[38;5;241m=\u001b[39m \u001b[43mfeature_normalize\u001b[49m(X)\n\u001b[1;32m     10\u001b[0m X \u001b[38;5;241m=\u001b[39m np\u001b[38;5;241m.\u001b[39mhstack((np\u001b[38;5;241m.\u001b[39mones((m, \u001b[38;5;241m1\u001b[39m)), X))\n\u001b[1;32m     11\u001b[0m y \u001b[38;5;241m=\u001b[39m data[:, \u001b[38;5;241m2\u001b[39m]\n",
      "\u001b[0;31mNameError\u001b[0m: name 'feature_normalize' is not defined"
     ]
    }
   ],
   "source": [
    "import numpy as np\n",
    "from matplotlib import pyplot as plt\n",
    "\n",
    "# Columns: first exam score, second exam score, admitted into a university.\n",
    "data = np.loadtxt('datasets/exams_results.csv', delimiter=',')\n",
    "\n",
    "m = data.shape[0]\n",
    "X = data[:, [0,1]]\n",
    "X, _, _ = feature_normalize(X)\n",
    "X = np.hstack((np.ones((m, 1)), X))\n",
    "y = data[:, [2]]\n",
    "\n",
    "# Plot data\n",
    "plt.title('Exams results')\n",
    "plt.xlabel('First exam score')\n",
    "plt.ylabel('Second exam score')\n",
    "plt.scatter(*X[:, [1, 2]][y[:, 0]==0].T, marker='o', color='blue')\n",
    "plt.scatter(*X[:, [1, 2]][y[:, 0]==1].T, marker='x', color='orange')\n",
    "\n",
    "# Plot hypothesis\n",
    "thetas = np.array([\n",
    "    [[2], [-0.45], [-0.45]],\n",
    "    [[0], [-0.45], [-0.45]],\n",
    "    [[-2], [-0.45], [-0.45]],\n",
    "    \n",
    "])\n",
    "\n",
    "x1_min, x1_max = np.min(X[:, 1]), np.max(X[:, 1])\n",
    "x2_min, x2_max = np.min(X[:, 2]), np.max(X[:, 2])\n",
    "\n",
    "args = np.array([\n",
    "    [1, x1_min, x2_min],\n",
    "    [1, x1_max, x2_max],\n",
    "])\n",
    "\n",
    "for theta in thetas:\n",
    "    J = cost_function(X, y, theta)\n",
    "    pred = args @ theta\n",
    "    label = f\"J={np.around(J, 2)}\"\n",
    "    plt.plot(args[:, 1], pred, label=label)\n",
    "\n",
    "plt.legend(loc='upper right')\n",
    "plt.show()"
   ]
  },
  {
   "cell_type": "markdown",
   "id": "e663cf1d",
   "metadata": {},
   "source": [
    "## Plot cost function for univariable hypothesis"
   ]
  },
  {
   "cell_type": "code",
   "execution_count": null,
   "id": "fb25b117",
   "metadata": {},
   "outputs": [],
   "source": [
    "import numpy as np\n",
    "from matplotlib import pyplot as plt\n",
    "\n",
    "X = np.array([-3, -2.1, -1.2, -1, 0, 1, 3, 3.5, 3.7, 4, 5, 6])\n",
    "theta_vals\n",
    "y = np.array([0, 0, 0, 0, 0, 0, 1, 1, 1, 1, 1, 1])\n",
    "\n",
    "theta_vals = np.arange(-7.5,9.25,0.1)\n",
    "theta_vals = theta_vals.reshape(len(theta_vals), 1)\n",
    "J_vals = []\n",
    "\n",
    "for theta in theta_vals:\n",
    "    theta = np.array([[theta]])\n",
    "    J = cost_function(X, y, theta)\n",
    "    J_vals.append(J)\n",
    "\n",
    "plt.xlabel(r'$\\theta$')\n",
    "plt.ylabel(r'$J(\\theta)$')\n",
    "plt.plot(theta_vals, J_vals)\n",
    "plt.show()\n",
    "\n",
    "\n",
    "\n",
    "# plt.xlabel('x')\n",
    "# plt.ylabel('y')\n",
    "# plt.yticks([0, 1])\n",
    "# plt.scatter(X[y==0], y[y==0], marker='o', color='blue')\n",
    "# plt.scatter(X[y==1], y[y==1], marker='x', color='orange')\n",
    "# plt.plot([2, 2], [0, 1], color='green')\n",
    "# plt.fill_between([2, min(X)], [0, 0], 1, color='blue', alpha=0.1)\n",
    "# plt.fill_between([2, max(X)], [0, 0], 1, color='orange', alpha=0.1)\n",
    "plt.show()"
   ]
  },
  {
   "cell_type": "code",
   "execution_count": null,
   "id": "057866f3",
   "metadata": {},
   "outputs": [],
   "source": []
  },
  {
   "cell_type": "code",
   "execution_count": null,
   "id": "666b3a3c",
   "metadata": {},
   "outputs": [],
   "source": [
    "Multiclass classification"
   ]
  },
  {
   "cell_type": "code",
   "execution_count": null,
   "id": "b4d7cc8d",
   "metadata": {},
   "outputs": [],
   "source": [
    "https://scipython.com/blog/plotting-the-decision-boundary-of-a-logistic-regression-model/"
   ]
  },
  {
   "cell_type": "code",
   "execution_count": null,
   "id": "5dd4273d",
   "metadata": {},
   "outputs": [],
   "source": [
    " regularyzacja jako osobny topic"
   ]
  },
  {
   "cell_type": "code",
   "execution_count": null,
   "id": "97c4b69a",
   "metadata": {},
   "outputs": [],
   "source": [
    "zmienić .dot na * (przekonwertować na matrix) - czy wektor może być matrix?"
   ]
  },
  {
   "cell_type": "code",
   "execution_count": null,
   "id": "4d057e08",
   "metadata": {},
   "outputs": [],
   "source": [
    "zmienić .dot na * (przekonwertować na matrix) - czy wektor może być matrix"
   ]
  },
  {
   "cell_type": "code",
   "execution_count": null,
   "id": "9f6248e1",
   "metadata": {},
   "outputs": [],
   "source": []
  },
  {
   "cell_type": "code",
   "execution_count": null,
   "id": "afa7a5e1",
   "metadata": {},
   "outputs": [],
   "source": [
    "import numpy as np\n",
    "from matplotlib import pyplot as plt\n",
    "\n",
    "# Columns: first exam score, second exam score, admitted into a university.\n",
    "data = np.loadtxt('datasets/exams_results.csv', delimiter=',')\n",
    "\n",
    "m = data.shape[0]\n",
    "X = data[:, [0,1]]\n",
    "X = np.hstack((np.ones((m, 1)), X))\n",
    "y = data[:, [2]]\n",
    "\n",
    "# Plot hypothesis\n",
    "theta = np.array([[0], [0], [0]])\n",
    "print('Cost', cost_function(X, y, theta))\n",
    "print('Gradient', )"
   ]
  }
 ],
 "metadata": {
  "kernelspec": {
   "display_name": "Python 3 (ipykernel)",
   "language": "python",
   "name": "python3"
  },
  "language_info": {
   "codemirror_mode": {
    "name": "ipython",
    "version": 3
   },
   "file_extension": ".py",
   "mimetype": "text/x-python",
   "name": "python",
   "nbconvert_exporter": "python",
   "pygments_lexer": "ipython3",
   "version": "3.10.6"
  },
  "toc": {
   "base_numbering": 1,
   "nav_menu": {
    "height": "301px",
    "width": "721px"
   },
   "number_sections": true,
   "sideBar": true,
   "skip_h1_title": false,
   "title_cell": "Logistic regression algorithms.",
   "title_sidebar": "Table of content",
   "toc_cell": true,
   "toc_position": {
    "height": "calc(100% - 180px)",
    "left": "10px",
    "top": "150px",
    "width": "374.275px"
   },
   "toc_section_display": true,
   "toc_window_display": true
  }
 },
 "nbformat": 4,
 "nbformat_minor": 5
}
