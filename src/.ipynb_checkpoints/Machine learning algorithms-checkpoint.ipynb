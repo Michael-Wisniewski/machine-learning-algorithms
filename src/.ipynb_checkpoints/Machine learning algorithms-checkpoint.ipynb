{
 "cells": [
  {
   "cell_type": "markdown",
   "id": "61764372",
   "metadata": {
    "toc": true
   },
   "source": [
    "<h1>Machine learning algorithms.<span class=\"tocSkip\"></span></h1>\n",
    "<div class=\"toc\"><ul class=\"toc-item\"><li><span><a href=\"#Linear-regression\" data-toc-modified-id=\"Linear-regression-1\"><span class=\"toc-item-num\">1&nbsp;&nbsp;</span>Linear regression</a></span><ul class=\"toc-item\"><li><span><a href=\"#Hypothesis\" data-toc-modified-id=\"Hypothesis-1.1\"><span class=\"toc-item-num\">1.1&nbsp;&nbsp;</span>Hypothesis</a></span></li><li><span><a href=\"#Cost-function---Mean-squared-error\" data-toc-modified-id=\"Cost-function---Mean-squared-error-1.2\"><span class=\"toc-item-num\">1.2&nbsp;&nbsp;</span>Cost function - Mean squared error</a></span></li><li><span><a href=\"#Gradient-descent\" data-toc-modified-id=\"Gradient-descent-1.3\"><span class=\"toc-item-num\">1.3&nbsp;&nbsp;</span>Gradient descent</a></span></li><li><span><a href=\"#Feature-scaling-and-mean-normalization\" data-toc-modified-id=\"Feature-scaling-and-mean-normalization-1.4\"><span class=\"toc-item-num\">1.4&nbsp;&nbsp;</span>Feature scaling and mean normalization</a></span></li><li><span><a href=\"#Normal-equasion\" data-toc-modified-id=\"Normal-equasion-1.5\"><span class=\"toc-item-num\">1.5&nbsp;&nbsp;</span>Normal equasion</a></span></li></ul></li><li><span><a href=\"#Linear-regression-examples\" data-toc-modified-id=\"Linear-regression-examples-2\"><span class=\"toc-item-num\">2&nbsp;&nbsp;</span>Linear regression examples</a></span><ul class=\"toc-item\"><li><span><a href=\"#Plot-hypothesis\" data-toc-modified-id=\"Plot-hypothesis-2.1\"><span class=\"toc-item-num\">2.1&nbsp;&nbsp;</span>Plot hypothesis</a></span></li></ul></li></ul></div>"
   ]
  },
  {
   "cell_type": "markdown",
   "id": "892b8ca6",
   "metadata": {},
   "source": [
    "# Linear regression"
   ]
  },
  {
   "cell_type": "markdown",
   "id": "a7397241",
   "metadata": {},
   "source": [
    "n - number of features <br>\n",
    "m - number of training examples <br>\n",
    "$x^{(i)}$ - $i^{th}$ input variable <br>\n",
    "$y^{(i)}$ - $i^{th}$ output variable"
   ]
  },
  {
   "cell_type": "markdown",
   "id": "984e991d",
   "metadata": {},
   "source": [
    "## Hypothesis"
   ]
  },
  {
   "cell_type": "markdown",
   "id": "34bb44e7",
   "metadata": {},
   "source": [
    "Parameters: <br>\n",
    "&emsp; $\\theta_0, \\theta_1,...\\theta_n = \\theta$ <br><br>\n",
    "Hypothesis: <br>\n",
    "&emsp; $h_\\theta(x) = \\theta_0x_0+\\theta_1x_1+...+\\theta_nx_n = \\theta^Tx$"
   ]
  },
  {
   "cell_type": "markdown",
   "id": "0ed30fbc",
   "metadata": {},
   "source": [
    "## Cost function - Mean squared error"
   ]
  },
  {
   "cell_type": "markdown",
   "id": "4de7fb33",
   "metadata": {},
   "source": [
    "Cost function: <br>\n",
    "&emsp; $J(\\theta) = \\frac{1}{2m} \\sum \\limits _{i=1} ^m (h_\\theta(x^{(i)})-y^{(i)})^2$ <br><br>\n",
    "Vectorized cost function: <br>\n",
    "&emsp; $J(\\theta) = \\frac{1}{2m}(X\\theta - y)^T(X\\theta - y)$"
   ]
  },
  {
   "cell_type": "markdown",
   "id": "cb26b648",
   "metadata": {},
   "source": [
    "## Gradient descent"
   ]
  },
  {
   "cell_type": "markdown",
   "id": "88042adf",
   "metadata": {},
   "source": [
    "Gradient descent algorithm: <br>\n",
    "&emsp; $\\theta_j := \\theta_j - \\alpha \\frac{\\partial}{\\partial\\theta_j}J(\\theta)$ <br>\n",
    "&emsp;$\\theta_j := \\theta_j - \\alpha \\frac{1}{m} \\sum \\limits _{i=1} ^m (h_\\theta(x^{(i)})-y^{(i)})x_j^{(i)}$ &emsp; for j=0...n,  $x_0=1$ <br><br>\n",
    "Vectorized gradient descent: <br>\n",
    "&emsp; $\\theta = \\theta - \\alpha \\frac{1}{m} ((X\\theta - y)^T X)^T = \\theta - \\alpha \\frac{1}{m} X^T (X\\theta - y)$"
   ]
  },
  {
   "cell_type": "markdown",
   "id": "e46aca2a",
   "metadata": {},
   "source": [
    "## Feature scaling and mean normalization"
   ]
  },
  {
   "cell_type": "markdown",
   "id": "4d970366",
   "metadata": {},
   "source": [
    "$\\mu_i - mean$ <br>\n",
    "$\\sigma_i$ - standard deviation <br><br>\n",
    "Feature scaling and mean normalization: <br>\n",
    "&emsp; $x_i = \\frac{x_i - \\mu_i}{\\sigma_i}$ <br><br>\n",
    "Vectorized feature scaling and mean normalization: <br>\n",
    "&emsp; $\\mu \\in \\mathbb{R^n}$ <br>\n",
    "&emsp; $\\sigma \\in \\mathbb{R^n}$ <br>\n",
    "&emsp; $t \\in \\mathbb{1}^m$ <br><br>\n",
    "&emsp; $X_{normalize} = (X - t\\mu^T) \\oslash (t\\sigma^T)$"
   ]
  },
  {
   "cell_type": "markdown",
   "id": "8a1e8397",
   "metadata": {},
   "source": [
    "## Normal equasion"
   ]
  },
  {
   "cell_type": "markdown",
   "id": "e32e4e5e",
   "metadata": {},
   "source": [
    "min of $J(\\theta) = \\frac{\\partial}{\\partial\\theta}J(\\theta) = \\frac{\\partial}{\\partial\\theta} \\frac{1}{2m} \\sum \\limits _{i=1} ^m (h_\\theta(x^{(i)})-y^{(i)})^2 = 0 => \\theta = (X^TX)^{-1}X^Ty$ <br>"
   ]
  },
  {
   "cell_type": "markdown",
   "id": "a0c5fc6d",
   "metadata": {},
   "source": [
    "# Linear regression examples"
   ]
  },
  {
   "cell_type": "markdown",
   "id": "6705677d",
   "metadata": {},
   "source": [
    "## Plot hypothesis"
   ]
  },
  {
   "cell_type": "code",
   "execution_count": 10,
   "id": "4a83f327",
   "metadata": {
    "scrolled": false
   },
   "outputs": [],
   "source": [
    "import numpy as np\n",
    "dataset = np.loadtxt('datasets/food_truck.csv', delimiter=',')"
   ]
  },
  {
   "cell_type": "code",
   "execution_count": 14,
   "id": "a71c829e",
   "metadata": {
    "scrolled": true
   },
   "outputs": [],
   "source": [
    "dataset[:, 1]\n",
    "https://www.youtube.com/watch?v=QUT1VHiLmmI"
   ]
  },
  {
   "cell_type": "code",
   "execution_count": null,
   "id": "32ad6fc4",
   "metadata": {},
   "outputs": [],
   "source": []
  }
 ],
 "metadata": {
  "kernelspec": {
   "display_name": "Python 3",
   "language": "python",
   "name": "python3"
  },
  "language_info": {
   "codemirror_mode": {
    "name": "ipython",
    "version": 3
   },
   "file_extension": ".py",
   "mimetype": "text/x-python",
   "name": "python",
   "nbconvert_exporter": "python",
   "pygments_lexer": "ipython3",
   "version": "3.9.4"
  },
  "toc": {
   "base_numbering": 1,
   "nav_menu": {
    "height": "72px",
    "width": "374px"
   },
   "number_sections": true,
   "sideBar": true,
   "skip_h1_title": false,
   "title_cell": "Machine learning algorithms.",
   "title_sidebar": "Table of content",
   "toc_cell": true,
   "toc_position": {
    "height": "calc(100% - 180px)",
    "left": "10px",
    "top": "150px",
    "width": "303.823px"
   },
   "toc_section_display": true,
   "toc_window_display": true
  }
 },
 "nbformat": 4,
 "nbformat_minor": 5
}
