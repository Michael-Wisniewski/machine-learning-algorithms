{
 "cells": [
  {
   "cell_type": "markdown",
   "id": "61764372",
   "metadata": {
    "toc": true
   },
   "source": [
    "<h1>Machine learning algorithms.<span class=\"tocSkip\"></span></h1>\n",
    "<div class=\"toc\"><ul class=\"toc-item\"><li><span><a href=\"#AAA\" data-toc-modified-id=\"AAA-1\"><span class=\"toc-item-num\">1&nbsp;&nbsp;</span>AAA</a></span><ul class=\"toc-item\"><li><span><a href=\"#BBB\" data-toc-modified-id=\"BBB-1.1\"><span class=\"toc-item-num\">1.1&nbsp;&nbsp;</span>BBB</a></span></li></ul></li></ul></div>"
   ]
  },
  {
   "cell_type": "markdown",
   "id": "892b8ca6",
   "metadata": {},
   "source": [
    "## AAA"
   ]
  },
  {
   "cell_type": "markdown",
   "id": "0ed30fbc",
   "metadata": {},
   "source": [
    "### BBB"
   ]
  }
 ],
 "metadata": {
  "kernelspec": {
   "display_name": "Python 3",
   "language": "python",
   "name": "python3"
  },
  "language_info": {
   "codemirror_mode": {
    "name": "ipython",
    "version": 3
   },
   "file_extension": ".py",
   "mimetype": "text/x-python",
   "name": "python",
   "nbconvert_exporter": "python",
   "pygments_lexer": "ipython3",
   "version": "3.9.4"
  },
  "toc": {
   "base_numbering": 1,
   "nav_menu": {
    "height": "72px",
    "width": "374px"
   },
   "number_sections": true,
   "sideBar": true,
   "skip_h1_title": false,
   "title_cell": "Machine learning algorithms.",
   "title_sidebar": "Table of content",
   "toc_cell": true,
   "toc_position": {
    "height": "calc(100% - 180px)",
    "left": "10px",
    "top": "150px",
    "width": "303.825px"
   },
   "toc_section_display": true,
   "toc_window_display": true
  }
 },
 "nbformat": 4,
 "nbformat_minor": 5
}
